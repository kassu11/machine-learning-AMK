{
 "cells": [
  {
   "cell_type": "markdown",
   "execution_count": null,
   "id": "1dd80c6e-a19f-4ee0-a7a9-6072c3aab0a1",
   "metadata": {},
   "outputs": [],
   "source": [
    "# Style transfering"
   ]
  },
  {
   "cell_type": "code",
   "execution_count": null,
   "id": "53t52kjj-1bi9-txyk-sena-ig4sv8y10x4d",
   "metadata": {},
   "outputs": [],
   "source": [
    "from tensorflow import keras\r\n",
    "  \r\n",
    "base_image_path = keras.utils.get_file(\r\n",
    "    \"sf.jpg\", origin=\"https://img-datasets.s3.amazonaws.com/sf.jpg\")\r\n",
    "style_reference_image_path = keras.utils.get_file(\r\n",
    "    \"starry_night.jpg\", origin=\"https://img-datasets.s3.amazonaws.com/starry_night.jpg\")\r\n",
    "  \r\n",
    "original_width, original_height = keras.utils.load_img(base_image_path).size\r\n",
    "img_height = 400\r\n",
    "img_width = round(original_width * img_height / original_height)"
   ]
  },
  {
   "cell_type": "code",
   "execution_count": null,
   "id": "96cdafnl-iazr-vrz2-nnsq-7koyt6evmgr3",
   "metadata": {},
   "outputs": [],
   "source": [
    "import numpy as np\r\n",
    "  \r\n",
    "def preprocess_image(image_path):\r\n",
    "    img = keras.utils.load_img(\r\n",
    "        image_path, target_size=(img_height, img_width))\r\n",
    "    img = keras.utils.img_to_array(img)\r\n",
    "    img = np.expand_dims(img, axis=0)\r\n",
    "    img = keras.applications.vgg19.preprocess_input(img)\r\n",
    "    return img\r\n",
    "  \r\n",
    "def deprocess_image(img):\r\n",
    "    img = img.reshape((img_height, img_width, 3))\r\n",
    "    img[:, :, 0] += 103.939\r\n",
    "    img[:, :, 1] += 116.779\r\n",
    "    img[:, :, 2] += 123.68\r\n",
    "    img = img[:, :, ::-1]\r\n",
    "    img = np.clip(img, 0, 255).astype(\"uint8\")\r\n",
    "    return img"
   ]
  },
  {
   "cell_type": "code",
   "execution_count": null,
   "id": "5252ugb3-6shx-4a16-2jjt-kfp4o1jy8h7o",
   "metadata": {},
   "outputs": [],
   "source": [
    "model = keras.applications.vgg19.VGG19(weights=\"imagenet\", include_top=False)\r\n",
    "  \r\n",
    "outputs_dict = dict([(layer.name, layer.output) for layer in model.layers])\r\n",
    "feature_extractor = keras.Model(inputs=model.inputs, outputs=outputs_dict)"
   ]
  },
  {
   "cell_type": "code",
   "execution_count": null,
   "id": "6mm3xn4m-15q4-i1m0-rmpi-7f76tp592a09",
   "metadata": {},
   "outputs": [],
   "source": [
    "def content_loss(base_img, combination_img):\r\n",
    "    return tf.reduce_sum(tf.square(combination_img - base_img))"
   ]
  },
  {
   "cell_type": "code",
   "execution_count": null,
   "id": "3h9u5ayy-rx07-cvtc-rxya-kp1y0sljvcvp",
   "metadata": {},
   "outputs": [],
   "source": [
    "def gram_matrix(x):\r\n",
    "    x = tf.transpose(x, (2, 0, 1))\r\n",
    "    features = tf.reshape(x, (tf.shape(x)[0], -1))\r\n",
    "    gram = tf.matmul(features, tf.transpose(features))\r\n",
    "    return gram\r\n",
    "  \r\n",
    "def style_loss(style_img, combination_img):\r\n",
    "    S = gram_matrix(style_img)\r\n",
    "    C = gram_matrix(combination_img)\r\n",
    "    channels = 3\r\n",
    "    size = img_height * img_width\r\n",
    "    return tf.reduce_sum(tf.square(S - C)) / (4.0 * (channels ** 2) * (size ** 2))"
   ]
  },
  {
   "cell_type": "code",
   "execution_count": null,
   "id": "anfpsh02-5hfb-g88r-jevp-jsjlcx4yymgo",
   "metadata": {},
   "outputs": [],
   "source": [
    "def total_variation_loss(x):\r\n",
    "    a = tf.square(\r\n",
    "        x[:, : img_height - 1, : img_width - 1, :] - x[:, 1:, : img_width - 1, :]\r\n",
    "    )\r\n",
    "    b = tf.square(\r\n",
    "        x[:, : img_height - 1, : img_width - 1, :] - x[:, : img_height - 1, 1:, :]\r\n",
    "    )\r\n",
    "    return tf.reduce_sum(tf.pow(a + b, 1.25))"
   ]
  },
  {
   "cell_type": "code",
   "execution_count": null,
   "id": "k66ulhqg-mi1s-fe2x-5ih0-h3ntmroh6ebv",
   "metadata": {},
   "outputs": [],
   "source": [
    "style_layer_names = [\r\n",
    "    \"block1_conv1\",\r\n",
    "    \"block2_conv1\",\r\n",
    "    \"block3_conv1\",\r\n",
    "    \"block4_conv1\",\r\n",
    "    \"block5_conv1\",\r\n",
    "]\r\n",
    "content_layer_name = \"block5_conv2\"\r\n",
    "total_variation_weight = 1e-6\r\n",
    "style_weight = 1e-6\r\n",
    "content_weight = 2.5e-8\r\n",
    "  \r\n",
    "def compute_loss(combination_image, base_image, style_reference_image):\r\n",
    "    input_tensor = tf.concat(\r\n",
    "        [base_image, style_reference_image, combination_image], axis=0)\r\n",
    "    features = feature_extractor(input_tensor)\r\n",
    "    loss = tf.zeros(shape=())\r\n",
    "    layer_features = features[content_layer_name]\r\n",
    "    base_image_features = layer_features[0, :, :, :]\r\n",
    "    combination_features = layer_features[2, :, :, :]\r\n",
    "    loss = loss + content_weight * content_loss(\r\n",
    "        base_image_features, combination_features\r\n",
    "    )\r\n",
    "    for layer_name in style_layer_names:\r\n",
    "        layer_features = features[layer_name]\r\n",
    "        style_reference_features = layer_features[1, :, :, :]\r\n",
    "        combination_features = layer_features[2, :, :, :]\r\n",
    "        style_loss_value = style_loss(\r\n",
    "            style_reference_features, combination_features)\r\n",
    "        loss += (style_weight / len(style_layer_names)) * style_loss_value\r\n",
    "  \r\n",
    "    loss += total_variation_weight * total_variation_loss(combination_image)\r\n",
    "    return loss"
   ]
  },
  {
   "cell_type": "code",
   "execution_count": null,
   "id": "o7no6z4a-vklh-ykzr-8raf-yikx598r9gy4",
   "metadata": {},
   "outputs": [],
   "source": [
    "import tensorflow as tf\r\n",
    "  \r\n",
    "@tf.function\r\n",
    "def compute_loss_and_grads(\r\n",
    "    combination_image, base_image, style_reference_image):\r\n",
    "    with tf.GradientTape() as tape:\r\n",
    "        loss = compute_loss(\r\n",
    "            combination_image, base_image, style_reference_image)\r\n",
    "    grads = tape.gradient(loss, combination_image)\r\n",
    "    return loss, grads\r\n",
    "  \r\n",
    "optimizer = keras.optimizers.SGD(\r\n",
    "    keras.optimizers.schedules.ExponentialDecay(\r\n",
    "        initial_learning_rate=100.0, decay_steps=100, decay_rate=0.96 \r\n",
    "    )\r\n",
    ")\r\n",
    "  \r\n",
    "base_image = preprocess_image(base_image_path)\r\n",
    "style_reference_image = preprocess_image(style_reference_image_path)\r\n",
    "combination_image = tf.Variable(preprocess_image(base_image_path))\r\n",
    "  \r\n",
    "iterations = 4000 \r\n",
    "for i in range(1, iterations + 1): \r\n",
    "    loss, grads = compute_loss_and_grads(\r\n",
    "        combination_image, base_image, style_reference_image\r\n",
    "    )\r\n",
    "    optimizer.apply_gradients([(grads, combination_image)])\r\n",
    "    if i % 100 == 0:\r\n",
    "        print(f\"Iteration {i}: loss={loss:.2f}\")\r\n",
    "        img = deprocess_image(combination_image.numpy())\r\n",
    "        fname = f\"combination_image_at_iteration_{i}.png\" \r\n",
    "        keras.utils.save_img(fname, img) "
   ]
  }
 ],
 "metadata": {
  "kernelspec": {
   "display_name": "Python 3 (ipykernel)",
   "language": "python",
   "name": "python3"
  },
  "language_info": {
   "codemirror_mode": {
    "name": "ipython",
    "version": 3
   },
   "file_extension": ".py",
   "mimetype": "text/x-python",
   "name": "python",
   "nbconvert_exporter": "python",
   "pygments_lexer": "ipython3",
   "version": "3.12.7"
  }
 },
 "nbformat": 4,
 "nbformat_minor": 5
}