{
 "cells": [
  {
   "cell_type": "markdown",
   "id": "1dd80c6e-a19f-4ee0-a7a9-6072c3aab0a1",
   "metadata": {},
   "source": [
    "# Tyylin siirtäminen kuvasta toiseen\n",
    "## Tavoitteet\n",
    "Tarkoituksena on ottaa tyyli jostain referenssikuvasta, kuten maalauksesta, ja siirtää siitä piirteitä toiseen kuvaan. "
   ]
  },
  {
   "cell_type": "code",
   "execution_count": 1,
   "id": "ka77yj35-ifep-boz8-cq4b-5p27cujnn27p",
   "metadata": {},
   "outputs": [
    {
     "name": "stdout",
     "output_type": "stream",
     "text": [
      "2 Physical GPUs, 2 Logical GPUs\n"
     ]
    }
   ],
   "source": [
    "import tensorflow as tf\r\n",
    "gpus = tf.config.list_physical_devices('GPU')\r\n",
    "if gpus:\r\n",
    "  try:\r\n",
    "    for gpu in gpus:\r\n",
    "      tf.config.experimental.set_memory_growth(gpu, True)\r\n",
    "    logical_gpus = tf.config.list_logical_devices('GPU')\r\n",
    "    print(len(gpus), \"Physical GPUs,\", len(logical_gpus), \"Logical GPUs\")\r\n",
    "  except RuntimeError as e:\r\n",
    "    print(e)"
   ]
  },
  {
   "cell_type": "markdown",
   "id": "90cb34ec-d33a-4835-9b6f-dc65b6cca0fe",
   "metadata": {},
   "source": [
    "## Datan kuvaus\n",
    "Datana käytämme kuvia, tässä tapauksessa esimerkkikuvina toimivat kuva lumivuoresta sekä värikäs maalaus aurinkoisesta mäestä. Kun kuvat on ladattu asetamme korkeudeksi `400`, jonka perusteella laskemme leveyden, jotta kuvasuhde säilyy samana."
   ]
  },
  {
   "cell_type": "code",
   "execution_count": 2,
   "id": "73e2e204-e89b-4ba9-9c8b-54b06cbb7c48",
   "metadata": {},
   "outputs": [],
   "source": [
    "from tensorflow import keras\n",
    "  \n",
    "base_image_path = keras.utils.get_file(\n",
    "    \"mountains.jpg\", origin=\"https://www.worldatlas.com/r/w1200/upload/56/fb/ee/alaska-mountain-range-csnafzger.jpg\")\n",
    "style_reference_image_path = keras.utils.get_file(\n",
    "    \"art2.jpg\", origin=\"https://img.freepik.com/premium-vector/stylized-abstract-painting-decorative-landscape_858664-44720.jpg\")\n",
    "  \n",
    "original_width, original_height = keras.utils.load_img(base_image_path).size\n",
    "img_height = 400\n",
    "img_width = round(original_width * img_height / original_height)"
   ]
  },
  {
   "cell_type": "markdown",
   "id": "c3fac4c0-61e0-4b48-b2e9-9212873c674a",
   "metadata": {},
   "source": [
    "## Datan esikäsittely\n",
    "Määritämme funktion kuvien esiprosessoimiselle. Kuva muutetaan numeroiksi `preprocess_image`-funktiossa. `deprocess_image`-funktio muuttaa numeroista koostuvan kuvan takaisin tavalliseksi kuvaksi.\n",
    "\n",
    "`deprocess_image` funktion ensimmäiset 3 riviä summa laskuja toteuttavat `zero-centering` operaation, joka peruuttaa `vgg19` tekemän transformaation input kerroksessa. Laskujen jälkeinen (`img[:, :, ::-1]`) rivi muuttaa kuvan värikanavat `BGR` järjestyksestä `RGB`:hen."
   ]
  },
  {
   "cell_type": "code",
   "execution_count": 3,
   "id": "96cdafnl-iazr-vrz2-nnsq-7koyt6evmgr3",
   "metadata": {},
   "outputs": [],
   "source": [
    "import numpy as np\r\n",
    "  \r\n",
    "def preprocess_image(image_path):\r\n",
    "    img = keras.utils.load_img(\r\n",
    "        image_path, target_size=(img_height, img_width))\r\n",
    "    img = keras.utils.img_to_array(img)\r\n",
    "    img = np.expand_dims(img, axis=0)\r\n",
    "    img = keras.applications.vgg19.preprocess_input(img)\r\n",
    "    return img\r\n",
    "  \r\n",
    "def deprocess_image(img):\r\n",
    "    img = img.reshape((img_height, img_width, 3))\r\n",
    "    img[:, :, 0] += 103.939\r\n",
    "    img[:, :, 1] += 116.779\r\n",
    "    img[:, :, 2] += 123.68\r\n",
    "    img = img[:, :, ::-1]\r\n",
    "    img = np.clip(img, 0, 255).astype(\"uint8\")\r\n",
    "    return img"
   ]
  },
  {
   "cell_type": "markdown",
   "id": "17b17bdc-bf1d-41c3-b3fb-9cb67351456f",
   "metadata": {},
   "source": [
    "## Mallinnus\n",
    "Käytämme valmiiksi koulutettua `VGG19`-mallia, jotta saamme kuvista tyylin ja sisällön eroteltua."
   ]
  },
  {
   "cell_type": "code",
   "execution_count": 4,
   "id": "5252ugb3-6shx-4a16-2jjt-kfp4o1jy8h7o",
   "metadata": {},
   "outputs": [],
   "source": [
    "model = keras.applications.vgg19.VGG19(weights=\"imagenet\", include_top=False)\r\n",
    "  \r\n",
    "outputs_dict = dict([(layer.name, layer.output) for layer in model.layers])\r\n",
    "feature_extractor = keras.Model(inputs=model.inputs, outputs=outputs_dict)"
   ]
  },
  {
   "cell_type": "markdown",
   "id": "8ng9j0fo-gg9j-x53h-urx0-r9gd6knybg1v",
   "metadata": {},
   "source": [
    "Määritetään `content_loss` funktio joka, laskee sisältöhäviöitä kuville. Funktiolle syötetään parametreina alkuperäinen kuva, sekä yhdistetty kuva."
   ]
  },
  {
   "cell_type": "code",
   "execution_count": 5,
   "id": "6mm3xn4m-15q4-i1m0-rmpi-7f76tp592a09",
   "metadata": {},
   "outputs": [],
   "source": [
    "def content_loss(base_img, combination_img):\r\n",
    "    return tf.reduce_sum(tf.square(combination_img - base_img))"
   ]
  },
  {
   "cell_type": "markdown",
   "id": "47r7gecx-g5kg-eh6l-yfz4-rgjajpqilioo",
   "metadata": {},
   "source": [
    "`Gram-matriisi` on tärkeä osa tyylihäviön laskemista. Funktio laskee kuvassa olevien piirteiden väliset suhteet ja tekee niistä gram-matriisin jota käytetään tyylihäviön laskemiseen.\r\n",
    "\r\n",
    "`style_loss`-funktiolla saamme laskettua häviömitan käyttämällä `gram_matrix`-funktiosta saatuja gram-matriiseja. Häviömitalla saamme tietää kuinka paljon kuvat muistuttavat toisiaan."
   ]
  },
  {
   "cell_type": "code",
   "execution_count": 6,
   "id": "3h9u5ayy-rx07-cvtc-rxya-kp1y0sljvcvp",
   "metadata": {},
   "outputs": [],
   "source": [
    "def gram_matrix(x):\r\n",
    "    x = tf.transpose(x, (2, 0, 1))\r\n",
    "    features = tf.reshape(x, (tf.shape(x)[0], -1))\r\n",
    "    gram = tf.matmul(features, tf.transpose(features))\r\n",
    "    return gram\r\n",
    "  \r\n",
    "def style_loss(style_img, combination_img):\r\n",
    "    S = gram_matrix(style_img)\r\n",
    "    C = gram_matrix(combination_img)\r\n",
    "    channels = 3\r\n",
    "    size = img_height * img_width\r\n",
    "    return tf.reduce_sum(tf.square(S - C)) / (4.0 * (channels ** 2) * (size ** 2))"
   ]
  },
  {
   "cell_type": "markdown",
   "id": "9dnutu0q-3kp8-32z2-vh8z-jjr2jc8xopt4",
   "metadata": {},
   "source": [
    "Viimeiseksi tehdään funktio, joka laskee kokonaisvaihteluhäviötä. Tämä arvo auttaa meitä välttämään kuvien liiallista pikselöitymistä ja epätasaisuutta. Toisinsanoen tämä tekee kuvista \"sulavempia\"."
   ]
  },
  {
   "cell_type": "code",
   "execution_count": 7,
   "id": "anfpsh02-5hfb-g88r-jevp-jsjlcx4yymgo",
   "metadata": {},
   "outputs": [],
   "source": [
    "def total_variation_loss(x):\r\n",
    "    a = tf.square(\r\n",
    "        x[:, : img_height - 1, : img_width - 1, :] - x[:, 1:, : img_width - 1, :]\r\n",
    "    )\r\n",
    "    b = tf.square(\r\n",
    "        x[:, : img_height - 1, : img_width - 1, :] - x[:, : img_height - 1, 1:, :]\r\n",
    "    )\r\n",
    "    return tf.reduce_sum(tf.pow(a + b, 1.25))"
   ]
  },
  {
   "cell_type": "markdown",
   "id": "a0zvhymu-cdur-eo3q-cmgz-ojlej30f1v0z",
   "metadata": {},
   "source": [
    "Seuraavaksi määritämme häviö-funktion, joka vertailee eroja luodun-, alkuperäisen-, sekä tyyli-kuvan välillä. Funktio palauttaa lopuksi häviöarvon."
   ]
  },
  {
   "cell_type": "code",
   "execution_count": 8,
   "id": "k66ulhqg-mi1s-fe2x-5ih0-h3ntmroh6ebv",
   "metadata": {},
   "outputs": [],
   "source": [
    "style_layer_names = [\r\n",
    "    \"block1_conv1\",\r\n",
    "    \"block2_conv1\",\r\n",
    "    \"block3_conv1\",\r\n",
    "    \"block4_conv1\",\r\n",
    "    \"block5_conv1\",\r\n",
    "]\r\n",
    "content_layer_name = \"block5_conv2\"\r\n",
    "total_variation_weight = 1e-6\r\n",
    "style_weight = 1e-6\r\n",
    "content_weight = 2.5e-8\r\n",
    "  \r\n",
    "def compute_loss(combination_image, base_image, style_reference_image):\r\n",
    "    input_tensor = tf.concat(\r\n",
    "        [base_image, style_reference_image, combination_image], axis=0)\r\n",
    "    features = feature_extractor(input_tensor)\r\n",
    "    loss = tf.zeros(shape=())\r\n",
    "    layer_features = features[content_layer_name]\r\n",
    "    base_image_features = layer_features[0, :, :, :]\r\n",
    "    combination_features = layer_features[2, :, :, :]\r\n",
    "    loss = loss + content_weight * content_loss(\r\n",
    "        base_image_features, combination_features\r\n",
    "    )\r\n",
    "    for layer_name in style_layer_names:\r\n",
    "        layer_features = features[layer_name]\r\n",
    "        style_reference_features = layer_features[1, :, :, :]\r\n",
    "        combination_features = layer_features[2, :, :, :]\r\n",
    "        style_loss_value = style_loss(\r\n",
    "            style_reference_features, combination_features)\r\n",
    "        loss += (style_weight / len(style_layer_names)) * style_loss_value\r\n",
    "  \r\n",
    "    loss += total_variation_weight * total_variation_loss(combination_image)\r\n",
    "    return loss"
   ]
  },
  {
   "cell_type": "markdown",
   "id": "r5xxivbk-oyg2-fvet-pi5t-h91yxqpxqt1e",
   "metadata": {},
   "source": [
    "Seuraavassa koodisolussa toteutamme tyylinsiirtoalgoritmin, jolla optimoidaan yhdistelmäkuvaa käyttämällä gradienttilaskentaa ja eksponentiaalisen heikkenemisen optimointia (SGD), toistamalla prosessia tuhansia kertoja ja tallentamalla välitulokset kuvatiedostoina."
   ]
  },
  {
   "cell_type": "code",
   "execution_count": 9,
   "id": "o7no6z4a-vklh-ykzr-8raf-yikx598r9gy4",
   "metadata": {},
   "outputs": [
    {
     "name": "stdout",
     "output_type": "stream",
     "text": [
      "Iteration 100: loss=5329.88\n",
      "Iteration 200: loss=3804.84\n",
      "Iteration 300: loss=3255.97\n",
      "Iteration 400: loss=2963.32\n",
      "Iteration 500: loss=2776.11\n",
      "Iteration 600: loss=2643.47\n",
      "Iteration 700: loss=2544.06\n",
      "Iteration 800: loss=2465.94\n",
      "Iteration 900: loss=2402.81\n",
      "Iteration 1000: loss=2350.45\n",
      "Iteration 1100: loss=2306.23\n",
      "Iteration 1200: loss=2268.31\n",
      "Iteration 1300: loss=2235.31\n",
      "Iteration 1400: loss=2206.25\n",
      "Iteration 1500: loss=2180.41\n",
      "Iteration 1600: loss=2157.31\n",
      "Iteration 1700: loss=2136.52\n",
      "Iteration 1800: loss=2117.77\n",
      "Iteration 1900: loss=2100.74\n",
      "Iteration 2000: loss=2085.20\n",
      "Iteration 2100: loss=2070.95\n",
      "Iteration 2200: loss=2057.86\n",
      "Iteration 2300: loss=2045.77\n",
      "Iteration 2400: loss=2034.62\n",
      "Iteration 2500: loss=2024.30\n",
      "Iteration 2600: loss=2014.70\n",
      "Iteration 2700: loss=2005.78\n",
      "Iteration 2800: loss=1997.45\n",
      "Iteration 2900: loss=1989.67\n",
      "Iteration 3000: loss=1982.38\n",
      "Iteration 3100: loss=1975.55\n",
      "Iteration 3200: loss=1969.14\n",
      "Iteration 3300: loss=1963.13\n",
      "Iteration 3400: loss=1957.47\n",
      "Iteration 3500: loss=1952.15\n",
      "Iteration 3600: loss=1947.16\n",
      "Iteration 3700: loss=1942.47\n",
      "Iteration 3800: loss=1938.03\n",
      "Iteration 3900: loss=1933.83\n",
      "Iteration 4000: loss=1929.87\n"
     ]
    }
   ],
   "source": [
    "import tensorflow as tf\r\n",
    "  \r\n",
    "@tf.function\r\n",
    "def compute_loss_and_grads(\r\n",
    "    combination_image, base_image, style_reference_image):\r\n",
    "    with tf.GradientTape() as tape:\r\n",
    "        loss = compute_loss(\r\n",
    "            combination_image, base_image, style_reference_image)\r\n",
    "    grads = tape.gradient(loss, combination_image)\r\n",
    "    return loss, grads\r\n",
    "  \r\n",
    "optimizer = keras.optimizers.SGD(\r\n",
    "    keras.optimizers.schedules.ExponentialDecay(\r\n",
    "        initial_learning_rate=100.0, decay_steps=100, decay_rate=0.96 \r\n",
    "    )\r\n",
    ")\r\n",
    "  \r\n",
    "base_image = preprocess_image(base_image_path)\r\n",
    "style_reference_image = preprocess_image(style_reference_image_path)\r\n",
    "combination_image = tf.Variable(preprocess_image(base_image_path))\r\n",
    "  \r\n",
    "iterations = 4000 \r\n",
    "for i in range(1, iterations + 1): \r\n",
    "    loss, grads = compute_loss_and_grads(\r\n",
    "        combination_image, base_image, style_reference_image\r\n",
    "    )\r\n",
    "    optimizer.apply_gradients([(grads, combination_image)])\r\n",
    "    if i % 100 == 0:\r\n",
    "        print(f\"Iteration {i}: loss={loss:.2f}\")\r\n",
    "        img = deprocess_image(combination_image.numpy())\r\n",
    "        fname = f\"combination_image_at_iteration_{i}.png\" \r\n",
    "        keras.utils.save_img(fname, img) "
   ]
  },
  {
   "cell_type": "markdown",
   "id": "x9z0v9ug-315e-tgt1-ehh9-mst7mf4btbz9",
   "metadata": {},
   "source": [
    "Voimme nyt tarkastella muutamia eri kuvia joita olemme syöttäneet mallin läpi."
   ]
  },
  {
   "cell_type": "code",
   "execution_count": null,
   "id": "0x8tk6az-8vby-5yui-h8jt-odt0varsrhhm",
   "metadata": {},
   "outputs": [],
   "source": [
    "from PIL import Image\r\n",
    "from IPython.display import display\r\n",
    "import matplotlib.pyplot as plt\r\n",
    "from matplotlib import gridspec\r\n",
    "\r\n",
    "def show_n(images, titles=('',)):\r\n",
    "  n = len(images)\r\n",
    "  image_sizes = [400, 400, 400]\r\n",
    "  w = (image_sizes[0] * 6) // 320\r\n",
    "  plt.figure(figsize=(w * n, w))\r\n",
    "  gs = gridspec.GridSpec(1, n, width_ratios=image_sizes)\r\n",
    "  for i in range(n):\r\n",
    "    plt.subplot(gs[i])\r\n",
    "    plt.imshow(images[i], aspect='equal')\r\n",
    "    plt.axis('off')\r\n",
    "    plt.title(titles[i] if len(titles) > i else '')\r\n",
    "  plt.show()\r\n",
    "\r\n",
    "mountain_orig = Image.open(\"image_sets/mountains/original.jpg\")\r\n",
    "reference_1 = Image.open(\"image_sets/mountains/reference.jpg\")\r\n",
    "mountain_stylized = Image.open(\"image_sets/mountains/stylized-4000.png\")\r\n",
    "show_n([mountain_orig, reference_1, mountain_stylized], titles=[\"Original\", \"Reference\", \"Stylized Image\"])"
   ]
  },
  {
   "cell_type": "code",
   "execution_count": null,
   "id": "y3y5tzcl-s024-4949-c4vu-zjkm9lm4kamd",
   "metadata": {},
   "outputs": [],
   "source": [
    "jerma_orig = Image.open(\"image_sets/jerma-picasso/original.webp\")\r\n",
    "reference_2 = Image.open(\"image_sets/jerma-picasso/reference.png\")\r\n",
    "jerma_stylized = Image.open(\"image_sets/jerma-picasso/stylized-4000.png\")\r\n",
    "show_n([jerma_orig, reference_2, jerma_stylized], titles=[\"Original\", \"Reference\", \"Stylized Image\"])"
   ]
  },
  {
   "cell_type": "code",
   "execution_count": null,
   "id": "2u05n8ih-nxym-iii6-djol-ijz3oa9skidh",
   "metadata": {},
   "outputs": [],
   "source": [
    "forest_orig = Image.open(\"image_sets/forest/original.jpg\")\r\n",
    "reference_3 = Image.open(\"image_sets/forest/reference.jpeg\")\r\n",
    "forest_stylized = Image.open(\"image_sets/forest/stylized-4000.png\")\r\n",
    "show_n([forest_orig, reference_3, forest_stylized], titles=[\"Original\", \"Reference\", \"Stylized Image\"])"
   ]
  },
  {
   "cell_type": "markdown",
   "id": "73fn3cbi-0mof-901q-9c6q-9rompjhc5zye",
   "metadata": {},
   "source": [
    "## Arviointi\r\n",
    "Osa kuvista on tyylittynyt paljon hienomman näköisiksi kuin toiset. Huomasimme eri kuvia tyylitellessä maisemakuvien olevan usein parhaita valintoja tämän mallin toiminnan kannalta. Itse tyylikuvina oli parasta käyttää hyvin tyyliteltyjä kuvia, kuten **Pablo Picasson** tai **Vincent van Goghin** maalauksia. Jos kuvat valitsee hyvin, malli tuottaa hienon näköisiä tuloksia, kuten ensimmäisessä esimerkkikuvassa näkyy."
   ]
  },
  {
   "cell_type": "markdown",
   "id": "6x5k6djv-rti8-yag7-px14-aaab37o8ntyz",
   "metadata": {},
   "source": [
    "## Käyttöönotto\r\n",
    "Tätä mallia voisi käyttää tyyliteltyjen kuvien tekemiseen, kuten olemme sitä käyttäneet."
   ]
  }
 ],
 "metadata": {
  "kernelspec": {
   "display_name": "Python 3 (ipykernel)",
   "language": "python",
   "name": "python3"
  },
  "language_info": {
   "codemirror_mode": {
    "name": "ipython",
    "version": 3
   },
   "file_extension": ".py",
   "mimetype": "text/x-python",
   "name": "python",
   "nbconvert_exporter": "python",
   "pygments_lexer": "ipython3",
   "version": "3.9.20"
  }
 },
 "nbformat": 4,
 "nbformat_minor": 5
}
