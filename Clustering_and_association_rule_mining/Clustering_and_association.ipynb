{
 "cells": [
  {
   "metadata": {},
   "cell_type": "markdown",
   "source": "# Klusterointi ja assosiaatio",
   "id": "cbc51155560594fc"
  },
  {
   "metadata": {},
   "cell_type": "markdown",
   "source": "# Tavoitteet",
   "id": "fb3d5f938f5bad99"
  },
  {
   "metadata": {},
   "cell_type": "markdown",
   "source": "## Datan kuvaus",
   "id": "4c722b94eba0428b"
  },
  {
   "metadata": {},
   "cell_type": "markdown",
   "source": "## Datan esikäsittely",
   "id": "be4e52a76290f6a5"
  },
  {
   "metadata": {},
   "cell_type": "markdown",
   "source": "## Mallinnus",
   "id": "3778956cf49869b"
  },
  {
   "metadata": {},
   "cell_type": "markdown",
   "source": "## Arviointi",
   "id": "f90c161297d916de"
  },
  {
   "metadata": {},
   "cell_type": "markdown",
   "source": "## Käyttöönotto",
   "id": "93a3e24001841c2f"
  }
 ],
 "metadata": {
  "kernelspec": {
   "display_name": "Python 3",
   "language": "python",
   "name": "python3"
  },
  "language_info": {
   "codemirror_mode": {
    "name": "ipython",
    "version": 2
   },
   "file_extension": ".py",
   "mimetype": "text/x-python",
   "name": "python",
   "nbconvert_exporter": "python",
   "pygments_lexer": "ipython2",
   "version": "2.7.6"
  }
 },
 "nbformat": 4,
 "nbformat_minor": 5
}
