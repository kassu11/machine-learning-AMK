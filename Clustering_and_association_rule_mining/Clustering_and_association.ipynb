{
 "cells": [
  {
   "metadata": {},
   "cell_type": "markdown",
   "source": "# Klusterointi ja assosiaatio",
   "id": "cbc51155560594fc"
  },
  {
   "metadata": {},
   "cell_type": "markdown",
   "source": [
    "## Tavoitteet\n",
    "Tavoite tässä prosessissa on optimoida drooneja käyttävän kuljetusyrityksen toimintaa löytämällä optimaalisia sijainteja droonikeskuksille. Yritys haluaa myös suositella asiakkaille tuotteita heidän ostoshistoriansa perusteella, joten datasta halutaan löytää kiinnostavia yhteyksiä eri tuoteryhmien välillä. "
   ],
   "id": "fb3d5f938f5bad99"
  },
  {
   "metadata": {},
   "cell_type": "markdown",
   "source": [
    "## Datan kuvaus\n",
    "Käytössä on 2 eri datasettiä: \n",
    "- Asiakkaiden sijannit, joka pitää sisällään seuraavat sarakkeet:\n",
    "- - clientid: Asiakkaan oma tunniste\n",
    "- - x: Asiakkaan sijainnin x-kordinaatti\n",
    "- - y: Asiakkaan sijainnin y-kordinaatti\n",
    "- Tuotteiden myyntidata, joka pitää sisällään seuraavat sarakkeet:\n",
    "- - ID: Ostotapahtuman tunniste\n",
    "- - Prod1-Prod20: Binääriarvo, joka kertoo ostettiinko tietystä tuoteryhmästä tuote vai ei."
   ],
   "id": "4c722b94eba0428b"
  },
  {
   "metadata": {},
   "cell_type": "code",
   "source": [
    "import pandas as pd\n",
    "import numpy as np\n",
    "import matplotlib.pyplot as plt\n",
    "\n",
    "df_cust = pd.read_csv('drone_cust_locations.csv')\n",
    "df_prod = pd.read_csv('drone_prod_locations.csv')"
   ],
   "id": "9ac44f16bb270e4e",
   "outputs": [],
   "execution_count": null
  },
  {
   "metadata": {},
   "cell_type": "markdown",
   "source": "## Datan esikäsittely",
   "id": "be4e52a76290f6a5"
  },
  {
   "metadata": {},
   "cell_type": "markdown",
   "source": "## Mallinnus",
   "id": "3778956cf49869b"
  },
  {
   "metadata": {},
   "cell_type": "markdown",
   "source": "## Arviointi",
   "id": "f90c161297d916de"
  },
  {
   "metadata": {},
   "cell_type": "markdown",
   "source": [
    "## Käyttöönotto\n",
    "Yritys voisi käyttää käsittelystä johdettuja optimaalisia droonikeskuksen sijainteja uusien droonikeskusten sijaintien valintaan. Tuotteiden ostotapahtumien väliset yhteydet voisi suoraan implementoida yrityksen verkkosivuille/sovellukseen antamaan asiakkaille suosituksia, kun hän selailee kauppaa. "
   ],
   "id": "93a3e24001841c2f"
  }
 ],
 "metadata": {
  "kernelspec": {
   "display_name": "Python 3",
   "language": "python",
   "name": "python3"
  },
  "language_info": {
   "codemirror_mode": {
    "name": "ipython",
    "version": 2
   },
   "file_extension": ".py",
   "mimetype": "text/x-python",
   "name": "python",
   "nbconvert_exporter": "python",
   "pygments_lexer": "ipython2",
   "version": "2.7.6"
  }
 },
 "nbformat": 4,
 "nbformat_minor": 5
}
