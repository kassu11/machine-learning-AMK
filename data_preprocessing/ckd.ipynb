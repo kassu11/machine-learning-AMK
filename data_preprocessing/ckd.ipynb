{
 "cells": [
  {
   "cell_type": "code",
   "execution_count": 1,
   "metadata": {
    "collapsed": true
   },
   "outputs": [],
   "source": [
    "import pandas as pd"
   ]
  },
  {
   "cell_type": "code",
   "execution_count": 15,
   "outputs": [
    {
     "data": {
      "text/plain": "   age blood_pressure specific_gravity albumin   sugar       rbc          pc  \\\n48  80          1.020                1       0       ?    normal  notpresent   \n7   50          1.020                4       0       ?    normal  notpresent   \n62  80          1.010                2       3  normal    normal  notpresent   \n48  70          1.005                4       0  normal  abnormal     present   \n51  80          1.010                2       0  normal    normal  notpresent   \n..  ..            ...              ...     ...     ...       ...         ...   \n55  80          1.020                0       0  normal    normal  notpresent   \n42  70          1.025                0       0  normal    normal  notpresent   \n12  80          1.020                0       0  normal    normal  notpresent   \n17  60          1.025                0       0  normal    normal  notpresent   \n58  80          1.025                0       0  normal    normal  notpresent   \n\n           pcc   ba blood_glucose_random  ... packed_cell_volume  \\\n48  notpresent  121                   36  ...                 44   \n7   notpresent    ?                   18  ...                 38   \n62  notpresent  423                   53  ...                 31   \n48  notpresent  117                   56  ...                 32   \n51  notpresent  106                   26  ...                 35   \n..         ...  ...                  ...  ...                ...   \n55  notpresent  140                   49  ...                 47   \n42  notpresent   75                   31  ...                 54   \n12  notpresent  100                   26  ...                 49   \n17  notpresent  114                   50  ...                 51   \n58  notpresent  131                   18  ...                 53   \n\n   white_blood_cell_count red_blood_cell_count  htn   dm cad appet   pe  ane  \\\n48                   7800                  5.2  yes  yes  no  good   no   no   \n7                    6000                    ?   no   no  no  good   no   no   \n62                   7500                    ?   no  yes  no  poor   no  yes   \n48                   6700                  3.9  yes   no  no  poor  yes  yes   \n51                   7300                  4.6   no   no  no  good   no   no   \n..                    ...                  ...  ...  ...  ..   ...  ...  ...   \n55                   6700                  4.9   no   no  no  good   no   no   \n42                   7800                  6.2   no   no  no  good   no   no   \n12                   6600                  5.4   no   no  no  good   no   no   \n17                   7200                  5.9   no   no  no  good   no   no   \n58                   6800                  6.1   no   no  no  good   no   no   \n\n     class  \n48     ckd  \n7      ckd  \n62     ckd  \n48     ckd  \n51     ckd  \n..     ...  \n55  notckd  \n42  notckd  \n12  notckd  \n17  notckd  \n58  notckd  \n\n[400 rows x 24 columns]",
      "text/html": "<div>\n<style scoped>\n    .dataframe tbody tr th:only-of-type {\n        vertical-align: middle;\n    }\n\n    .dataframe tbody tr th {\n        vertical-align: top;\n    }\n\n    .dataframe thead th {\n        text-align: right;\n    }\n</style>\n<table border=\"1\" class=\"dataframe\">\n  <thead>\n    <tr style=\"text-align: right;\">\n      <th></th>\n      <th>age</th>\n      <th>blood_pressure</th>\n      <th>specific_gravity</th>\n      <th>albumin</th>\n      <th>sugar</th>\n      <th>rbc</th>\n      <th>pc</th>\n      <th>pcc</th>\n      <th>ba</th>\n      <th>blood_glucose_random</th>\n      <th>...</th>\n      <th>packed_cell_volume</th>\n      <th>white_blood_cell_count</th>\n      <th>red_blood_cell_count</th>\n      <th>htn</th>\n      <th>dm</th>\n      <th>cad</th>\n      <th>appet</th>\n      <th>pe</th>\n      <th>ane</th>\n      <th>class</th>\n    </tr>\n  </thead>\n  <tbody>\n    <tr>\n      <th>48</th>\n      <td>80</td>\n      <td>1.020</td>\n      <td>1</td>\n      <td>0</td>\n      <td>?</td>\n      <td>normal</td>\n      <td>notpresent</td>\n      <td>notpresent</td>\n      <td>121</td>\n      <td>36</td>\n      <td>...</td>\n      <td>44</td>\n      <td>7800</td>\n      <td>5.2</td>\n      <td>yes</td>\n      <td>yes</td>\n      <td>no</td>\n      <td>good</td>\n      <td>no</td>\n      <td>no</td>\n      <td>ckd</td>\n    </tr>\n    <tr>\n      <th>7</th>\n      <td>50</td>\n      <td>1.020</td>\n      <td>4</td>\n      <td>0</td>\n      <td>?</td>\n      <td>normal</td>\n      <td>notpresent</td>\n      <td>notpresent</td>\n      <td>?</td>\n      <td>18</td>\n      <td>...</td>\n      <td>38</td>\n      <td>6000</td>\n      <td>?</td>\n      <td>no</td>\n      <td>no</td>\n      <td>no</td>\n      <td>good</td>\n      <td>no</td>\n      <td>no</td>\n      <td>ckd</td>\n    </tr>\n    <tr>\n      <th>62</th>\n      <td>80</td>\n      <td>1.010</td>\n      <td>2</td>\n      <td>3</td>\n      <td>normal</td>\n      <td>normal</td>\n      <td>notpresent</td>\n      <td>notpresent</td>\n      <td>423</td>\n      <td>53</td>\n      <td>...</td>\n      <td>31</td>\n      <td>7500</td>\n      <td>?</td>\n      <td>no</td>\n      <td>yes</td>\n      <td>no</td>\n      <td>poor</td>\n      <td>no</td>\n      <td>yes</td>\n      <td>ckd</td>\n    </tr>\n    <tr>\n      <th>48</th>\n      <td>70</td>\n      <td>1.005</td>\n      <td>4</td>\n      <td>0</td>\n      <td>normal</td>\n      <td>abnormal</td>\n      <td>present</td>\n      <td>notpresent</td>\n      <td>117</td>\n      <td>56</td>\n      <td>...</td>\n      <td>32</td>\n      <td>6700</td>\n      <td>3.9</td>\n      <td>yes</td>\n      <td>no</td>\n      <td>no</td>\n      <td>poor</td>\n      <td>yes</td>\n      <td>yes</td>\n      <td>ckd</td>\n    </tr>\n    <tr>\n      <th>51</th>\n      <td>80</td>\n      <td>1.010</td>\n      <td>2</td>\n      <td>0</td>\n      <td>normal</td>\n      <td>normal</td>\n      <td>notpresent</td>\n      <td>notpresent</td>\n      <td>106</td>\n      <td>26</td>\n      <td>...</td>\n      <td>35</td>\n      <td>7300</td>\n      <td>4.6</td>\n      <td>no</td>\n      <td>no</td>\n      <td>no</td>\n      <td>good</td>\n      <td>no</td>\n      <td>no</td>\n      <td>ckd</td>\n    </tr>\n    <tr>\n      <th>...</th>\n      <td>...</td>\n      <td>...</td>\n      <td>...</td>\n      <td>...</td>\n      <td>...</td>\n      <td>...</td>\n      <td>...</td>\n      <td>...</td>\n      <td>...</td>\n      <td>...</td>\n      <td>...</td>\n      <td>...</td>\n      <td>...</td>\n      <td>...</td>\n      <td>...</td>\n      <td>...</td>\n      <td>...</td>\n      <td>...</td>\n      <td>...</td>\n      <td>...</td>\n      <td>...</td>\n    </tr>\n    <tr>\n      <th>55</th>\n      <td>80</td>\n      <td>1.020</td>\n      <td>0</td>\n      <td>0</td>\n      <td>normal</td>\n      <td>normal</td>\n      <td>notpresent</td>\n      <td>notpresent</td>\n      <td>140</td>\n      <td>49</td>\n      <td>...</td>\n      <td>47</td>\n      <td>6700</td>\n      <td>4.9</td>\n      <td>no</td>\n      <td>no</td>\n      <td>no</td>\n      <td>good</td>\n      <td>no</td>\n      <td>no</td>\n      <td>notckd</td>\n    </tr>\n    <tr>\n      <th>42</th>\n      <td>70</td>\n      <td>1.025</td>\n      <td>0</td>\n      <td>0</td>\n      <td>normal</td>\n      <td>normal</td>\n      <td>notpresent</td>\n      <td>notpresent</td>\n      <td>75</td>\n      <td>31</td>\n      <td>...</td>\n      <td>54</td>\n      <td>7800</td>\n      <td>6.2</td>\n      <td>no</td>\n      <td>no</td>\n      <td>no</td>\n      <td>good</td>\n      <td>no</td>\n      <td>no</td>\n      <td>notckd</td>\n    </tr>\n    <tr>\n      <th>12</th>\n      <td>80</td>\n      <td>1.020</td>\n      <td>0</td>\n      <td>0</td>\n      <td>normal</td>\n      <td>normal</td>\n      <td>notpresent</td>\n      <td>notpresent</td>\n      <td>100</td>\n      <td>26</td>\n      <td>...</td>\n      <td>49</td>\n      <td>6600</td>\n      <td>5.4</td>\n      <td>no</td>\n      <td>no</td>\n      <td>no</td>\n      <td>good</td>\n      <td>no</td>\n      <td>no</td>\n      <td>notckd</td>\n    </tr>\n    <tr>\n      <th>17</th>\n      <td>60</td>\n      <td>1.025</td>\n      <td>0</td>\n      <td>0</td>\n      <td>normal</td>\n      <td>normal</td>\n      <td>notpresent</td>\n      <td>notpresent</td>\n      <td>114</td>\n      <td>50</td>\n      <td>...</td>\n      <td>51</td>\n      <td>7200</td>\n      <td>5.9</td>\n      <td>no</td>\n      <td>no</td>\n      <td>no</td>\n      <td>good</td>\n      <td>no</td>\n      <td>no</td>\n      <td>notckd</td>\n    </tr>\n    <tr>\n      <th>58</th>\n      <td>80</td>\n      <td>1.025</td>\n      <td>0</td>\n      <td>0</td>\n      <td>normal</td>\n      <td>normal</td>\n      <td>notpresent</td>\n      <td>notpresent</td>\n      <td>131</td>\n      <td>18</td>\n      <td>...</td>\n      <td>53</td>\n      <td>6800</td>\n      <td>6.1</td>\n      <td>no</td>\n      <td>no</td>\n      <td>no</td>\n      <td>good</td>\n      <td>no</td>\n      <td>no</td>\n      <td>notckd</td>\n    </tr>\n  </tbody>\n</table>\n<p>400 rows × 24 columns</p>\n</div>"
     },
     "execution_count": 15,
     "metadata": {},
     "output_type": "execute_result"
    }
   ],
   "source": [
    "import pandas as pd\n",
    "df = pd.read_csv(\"chronic_kidney_disease.csv\", sep=\",\", na_values=[\"\", \" \"], decimal=\".\")\n",
    "df"
   ],
   "metadata": {
    "collapsed": false
   }
  },
  {
   "cell_type": "code",
   "execution_count": null,
   "outputs": [],
   "source": [],
   "metadata": {
    "collapsed": false
   }
  }
 ],
 "metadata": {
  "kernelspec": {
   "display_name": "Python 3",
   "language": "python",
   "name": "python3"
  },
  "language_info": {
   "codemirror_mode": {
    "name": "ipython",
    "version": 2
   },
   "file_extension": ".py",
   "mimetype": "text/x-python",
   "name": "python",
   "nbconvert_exporter": "python",
   "pygments_lexer": "ipython2",
   "version": "2.7.6"
  }
 },
 "nbformat": 4,
 "nbformat_minor": 0
}
