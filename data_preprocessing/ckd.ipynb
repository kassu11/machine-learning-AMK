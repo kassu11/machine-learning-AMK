{
 "cells": [
  {
   "cell_type": "code",
   "execution_count": 1,
   "metadata": {
    "collapsed": true,
    "pycharm": {
     "name": "#%%\n"
    }
   },
   "outputs": [],
   "source": [
    "import pandas as pd"
   ]
  },
  {
   "cell_type": "code",
   "execution_count": 2,
   "outputs": [
    {
     "data": {
      "text/plain": "    age blood_pressure specific_gravity albumin sugar     rbc        pc  \\\n0    48             80            1.020       1     0       ?    normal   \n1     7             50            1.020       4     0       ?    normal   \n2    62             80            1.010       2     3  normal    normal   \n3    48             70            1.005       4     0  normal  abnormal   \n4    51             80            1.010       2     0  normal    normal   \n..   ..            ...              ...     ...   ...     ...       ...   \n395  55             80            1.020       0     0  normal    normal   \n396  42             70            1.025       0     0  normal    normal   \n397  12             80            1.020       0     0  normal    normal   \n398  17             60            1.025       0     0  normal    normal   \n399  58             80            1.025       0     0  normal    normal   \n\n            pcc          ba blood_glucose_random  ... packed_cell_volume  \\\n0    notpresent  notpresent                  121  ...                 44   \n1    notpresent  notpresent                    ?  ...                 38   \n2    notpresent  notpresent                  423  ...                 31   \n3       present  notpresent                  117  ...                 32   \n4    notpresent  notpresent                  106  ...                 35   \n..          ...         ...                  ...  ...                ...   \n395  notpresent  notpresent                  140  ...                 47   \n396  notpresent  notpresent                   75  ...                 54   \n397  notpresent  notpresent                  100  ...                 49   \n398  notpresent  notpresent                  114  ...                 51   \n399  notpresent  notpresent                  131  ...                 53   \n\n    white_blood_cell_count red_blood_cell_count  htn   dm cad appet   pe  ane  \\\n0                     7800                  5.2  yes  yes  no  good   no   no   \n1                     6000                    ?   no   no  no  good   no   no   \n2                     7500                    ?   no  yes  no  poor   no  yes   \n3                     6700                  3.9  yes   no  no  poor  yes  yes   \n4                     7300                  4.6   no   no  no  good   no   no   \n..                     ...                  ...  ...  ...  ..   ...  ...  ...   \n395                   6700                  4.9   no   no  no  good   no   no   \n396                   7800                  6.2   no   no  no  good   no   no   \n397                   6600                  5.4   no   no  no  good   no   no   \n398                   7200                  5.9   no   no  no  good   no   no   \n399                   6800                  6.1   no   no  no  good   no   no   \n\n      class  \n0       ckd  \n1       ckd  \n2       ckd  \n3       ckd  \n4       ckd  \n..      ...  \n395  notckd  \n396  notckd  \n397  notckd  \n398  notckd  \n399  notckd  \n\n[400 rows x 25 columns]",
      "text/html": "<div>\n<style scoped>\n    .dataframe tbody tr th:only-of-type {\n        vertical-align: middle;\n    }\n\n    .dataframe tbody tr th {\n        vertical-align: top;\n    }\n\n    .dataframe thead th {\n        text-align: right;\n    }\n</style>\n<table border=\"1\" class=\"dataframe\">\n  <thead>\n    <tr style=\"text-align: right;\">\n      <th></th>\n      <th>age</th>\n      <th>blood_pressure</th>\n      <th>specific_gravity</th>\n      <th>albumin</th>\n      <th>sugar</th>\n      <th>rbc</th>\n      <th>pc</th>\n      <th>pcc</th>\n      <th>ba</th>\n      <th>blood_glucose_random</th>\n      <th>...</th>\n      <th>packed_cell_volume</th>\n      <th>white_blood_cell_count</th>\n      <th>red_blood_cell_count</th>\n      <th>htn</th>\n      <th>dm</th>\n      <th>cad</th>\n      <th>appet</th>\n      <th>pe</th>\n      <th>ane</th>\n      <th>class</th>\n    </tr>\n  </thead>\n  <tbody>\n    <tr>\n      <th>0</th>\n      <td>48</td>\n      <td>80</td>\n      <td>1.020</td>\n      <td>1</td>\n      <td>0</td>\n      <td>?</td>\n      <td>normal</td>\n      <td>notpresent</td>\n      <td>notpresent</td>\n      <td>121</td>\n      <td>...</td>\n      <td>44</td>\n      <td>7800</td>\n      <td>5.2</td>\n      <td>yes</td>\n      <td>yes</td>\n      <td>no</td>\n      <td>good</td>\n      <td>no</td>\n      <td>no</td>\n      <td>ckd</td>\n    </tr>\n    <tr>\n      <th>1</th>\n      <td>7</td>\n      <td>50</td>\n      <td>1.020</td>\n      <td>4</td>\n      <td>0</td>\n      <td>?</td>\n      <td>normal</td>\n      <td>notpresent</td>\n      <td>notpresent</td>\n      <td>?</td>\n      <td>...</td>\n      <td>38</td>\n      <td>6000</td>\n      <td>?</td>\n      <td>no</td>\n      <td>no</td>\n      <td>no</td>\n      <td>good</td>\n      <td>no</td>\n      <td>no</td>\n      <td>ckd</td>\n    </tr>\n    <tr>\n      <th>2</th>\n      <td>62</td>\n      <td>80</td>\n      <td>1.010</td>\n      <td>2</td>\n      <td>3</td>\n      <td>normal</td>\n      <td>normal</td>\n      <td>notpresent</td>\n      <td>notpresent</td>\n      <td>423</td>\n      <td>...</td>\n      <td>31</td>\n      <td>7500</td>\n      <td>?</td>\n      <td>no</td>\n      <td>yes</td>\n      <td>no</td>\n      <td>poor</td>\n      <td>no</td>\n      <td>yes</td>\n      <td>ckd</td>\n    </tr>\n    <tr>\n      <th>3</th>\n      <td>48</td>\n      <td>70</td>\n      <td>1.005</td>\n      <td>4</td>\n      <td>0</td>\n      <td>normal</td>\n      <td>abnormal</td>\n      <td>present</td>\n      <td>notpresent</td>\n      <td>117</td>\n      <td>...</td>\n      <td>32</td>\n      <td>6700</td>\n      <td>3.9</td>\n      <td>yes</td>\n      <td>no</td>\n      <td>no</td>\n      <td>poor</td>\n      <td>yes</td>\n      <td>yes</td>\n      <td>ckd</td>\n    </tr>\n    <tr>\n      <th>4</th>\n      <td>51</td>\n      <td>80</td>\n      <td>1.010</td>\n      <td>2</td>\n      <td>0</td>\n      <td>normal</td>\n      <td>normal</td>\n      <td>notpresent</td>\n      <td>notpresent</td>\n      <td>106</td>\n      <td>...</td>\n      <td>35</td>\n      <td>7300</td>\n      <td>4.6</td>\n      <td>no</td>\n      <td>no</td>\n      <td>no</td>\n      <td>good</td>\n      <td>no</td>\n      <td>no</td>\n      <td>ckd</td>\n    </tr>\n    <tr>\n      <th>...</th>\n      <td>...</td>\n      <td>...</td>\n      <td>...</td>\n      <td>...</td>\n      <td>...</td>\n      <td>...</td>\n      <td>...</td>\n      <td>...</td>\n      <td>...</td>\n      <td>...</td>\n      <td>...</td>\n      <td>...</td>\n      <td>...</td>\n      <td>...</td>\n      <td>...</td>\n      <td>...</td>\n      <td>...</td>\n      <td>...</td>\n      <td>...</td>\n      <td>...</td>\n      <td>...</td>\n    </tr>\n    <tr>\n      <th>395</th>\n      <td>55</td>\n      <td>80</td>\n      <td>1.020</td>\n      <td>0</td>\n      <td>0</td>\n      <td>normal</td>\n      <td>normal</td>\n      <td>notpresent</td>\n      <td>notpresent</td>\n      <td>140</td>\n      <td>...</td>\n      <td>47</td>\n      <td>6700</td>\n      <td>4.9</td>\n      <td>no</td>\n      <td>no</td>\n      <td>no</td>\n      <td>good</td>\n      <td>no</td>\n      <td>no</td>\n      <td>notckd</td>\n    </tr>\n    <tr>\n      <th>396</th>\n      <td>42</td>\n      <td>70</td>\n      <td>1.025</td>\n      <td>0</td>\n      <td>0</td>\n      <td>normal</td>\n      <td>normal</td>\n      <td>notpresent</td>\n      <td>notpresent</td>\n      <td>75</td>\n      <td>...</td>\n      <td>54</td>\n      <td>7800</td>\n      <td>6.2</td>\n      <td>no</td>\n      <td>no</td>\n      <td>no</td>\n      <td>good</td>\n      <td>no</td>\n      <td>no</td>\n      <td>notckd</td>\n    </tr>\n    <tr>\n      <th>397</th>\n      <td>12</td>\n      <td>80</td>\n      <td>1.020</td>\n      <td>0</td>\n      <td>0</td>\n      <td>normal</td>\n      <td>normal</td>\n      <td>notpresent</td>\n      <td>notpresent</td>\n      <td>100</td>\n      <td>...</td>\n      <td>49</td>\n      <td>6600</td>\n      <td>5.4</td>\n      <td>no</td>\n      <td>no</td>\n      <td>no</td>\n      <td>good</td>\n      <td>no</td>\n      <td>no</td>\n      <td>notckd</td>\n    </tr>\n    <tr>\n      <th>398</th>\n      <td>17</td>\n      <td>60</td>\n      <td>1.025</td>\n      <td>0</td>\n      <td>0</td>\n      <td>normal</td>\n      <td>normal</td>\n      <td>notpresent</td>\n      <td>notpresent</td>\n      <td>114</td>\n      <td>...</td>\n      <td>51</td>\n      <td>7200</td>\n      <td>5.9</td>\n      <td>no</td>\n      <td>no</td>\n      <td>no</td>\n      <td>good</td>\n      <td>no</td>\n      <td>no</td>\n      <td>notckd</td>\n    </tr>\n    <tr>\n      <th>399</th>\n      <td>58</td>\n      <td>80</td>\n      <td>1.025</td>\n      <td>0</td>\n      <td>0</td>\n      <td>normal</td>\n      <td>normal</td>\n      <td>notpresent</td>\n      <td>notpresent</td>\n      <td>131</td>\n      <td>...</td>\n      <td>53</td>\n      <td>6800</td>\n      <td>6.1</td>\n      <td>no</td>\n      <td>no</td>\n      <td>no</td>\n      <td>good</td>\n      <td>no</td>\n      <td>no</td>\n      <td>notckd</td>\n    </tr>\n  </tbody>\n</table>\n<p>400 rows × 25 columns</p>\n</div>"
     },
     "execution_count": 2,
     "metadata": {},
     "output_type": "execute_result"
    }
   ],
   "source": [
    "import pandas as pd\n",
    "df = pd.read_csv(\"chronic_kidney_disease.csv\", sep=\",\", na_values=[\"\", \" \"], decimal=\".\")\n",
    "df"
   ],
   "metadata": {
    "collapsed": false,
    "pycharm": {
     "name": "#%%\n"
    }
   }
  },
  {
   "cell_type": "code",
   "execution_count": null,
   "outputs": [],
   "source": [],
   "metadata": {
    "collapsed": false,
    "pycharm": {
     "name": "#%%\n"
    }
   }
  }
 ],
 "metadata": {
  "kernelspec": {
   "display_name": "Python 3",
   "language": "python",
   "name": "python3"
  },
  "language_info": {
   "codemirror_mode": {
    "name": "ipython",
    "version": 2
   },
   "file_extension": ".py",
   "mimetype": "text/x-python",
   "name": "python",
   "nbconvert_exporter": "python",
   "pygments_lexer": "ipython2",
   "version": "2.7.6"
  }
 },
 "nbformat": 4,
 "nbformat_minor": 0
}