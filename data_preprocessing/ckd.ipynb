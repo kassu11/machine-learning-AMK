{
 "cells": [
  {
   "cell_type": "markdown",
   "source": [
    "# Datan esikäsittely\n",
    "Aluksi muutimme käsin .arff tiedoston .csv- tiedostoksi. Siistimme myös tiedostosta muutamasta rivistä ylimääräiset pilkut."
   ],
   "metadata": {
    "collapsed": false
   }
  },
  {
   "cell_type": "code",
   "execution_count": 1,
   "outputs": [
    {
     "data": {
      "text/plain": "      age  blood_pressure  specific_gravity  albumin  sugar     rbc        pc  \\\n0    48.0            80.0             1.020      1.0    0.0     NaN    normal   \n1     7.0            50.0             1.020      4.0    0.0     NaN    normal   \n2    62.0            80.0             1.010      2.0    3.0  normal    normal   \n3    48.0            70.0             1.005      4.0    0.0  normal  abnormal   \n4    51.0            80.0             1.010      2.0    0.0  normal    normal   \n..    ...             ...               ...      ...    ...     ...       ...   \n395  55.0            80.0             1.020      0.0    0.0  normal    normal   \n396  42.0            70.0             1.025      0.0    0.0  normal    normal   \n397  12.0            80.0             1.020      0.0    0.0  normal    normal   \n398  17.0            60.0             1.025      0.0    0.0  normal    normal   \n399  58.0            80.0             1.025      0.0    0.0  normal    normal   \n\n            pcc          ba  blood_glucose_random  ...  packed_cell_volume  \\\n0    notpresent  notpresent                 121.0  ...                44.0   \n1    notpresent  notpresent                   NaN  ...                38.0   \n2    notpresent  notpresent                 423.0  ...                31.0   \n3       present  notpresent                 117.0  ...                32.0   \n4    notpresent  notpresent                 106.0  ...                35.0   \n..          ...         ...                   ...  ...                 ...   \n395  notpresent  notpresent                 140.0  ...                47.0   \n396  notpresent  notpresent                  75.0  ...                54.0   \n397  notpresent  notpresent                 100.0  ...                49.0   \n398  notpresent  notpresent                 114.0  ...                51.0   \n399  notpresent  notpresent                 131.0  ...                53.0   \n\n     white_blood_cell_count  red_blood_cell_count  htn   dm  cad  appet   pe  \\\n0                    7800.0                   5.2  yes  yes   no   good   no   \n1                    6000.0                   NaN   no   no   no   good   no   \n2                    7500.0                   NaN   no  yes   no   poor   no   \n3                    6700.0                   3.9  yes   no   no   poor  yes   \n4                    7300.0                   4.6   no   no   no   good   no   \n..                      ...                   ...  ...  ...  ...    ...  ...   \n395                  6700.0                   4.9   no   no   no   good   no   \n396                  7800.0                   6.2   no   no   no   good   no   \n397                  6600.0                   5.4   no   no   no   good   no   \n398                  7200.0                   5.9   no   no   no   good   no   \n399                  6800.0                   6.1   no   no   no   good   no   \n\n     ane   class  \n0     no     ckd  \n1     no     ckd  \n2    yes     ckd  \n3    yes     ckd  \n4     no     ckd  \n..   ...     ...  \n395   no  notckd  \n396   no  notckd  \n397   no  notckd  \n398   no  notckd  \n399   no  notckd  \n\n[400 rows x 25 columns]",
      "text/html": "<div>\n<style scoped>\n    .dataframe tbody tr th:only-of-type {\n        vertical-align: middle;\n    }\n\n    .dataframe tbody tr th {\n        vertical-align: top;\n    }\n\n    .dataframe thead th {\n        text-align: right;\n    }\n</style>\n<table border=\"1\" class=\"dataframe\">\n  <thead>\n    <tr style=\"text-align: right;\">\n      <th></th>\n      <th>age</th>\n      <th>blood_pressure</th>\n      <th>specific_gravity</th>\n      <th>albumin</th>\n      <th>sugar</th>\n      <th>rbc</th>\n      <th>pc</th>\n      <th>pcc</th>\n      <th>ba</th>\n      <th>blood_glucose_random</th>\n      <th>...</th>\n      <th>packed_cell_volume</th>\n      <th>white_blood_cell_count</th>\n      <th>red_blood_cell_count</th>\n      <th>htn</th>\n      <th>dm</th>\n      <th>cad</th>\n      <th>appet</th>\n      <th>pe</th>\n      <th>ane</th>\n      <th>class</th>\n    </tr>\n  </thead>\n  <tbody>\n    <tr>\n      <th>0</th>\n      <td>48.0</td>\n      <td>80.0</td>\n      <td>1.020</td>\n      <td>1.0</td>\n      <td>0.0</td>\n      <td>NaN</td>\n      <td>normal</td>\n      <td>notpresent</td>\n      <td>notpresent</td>\n      <td>121.0</td>\n      <td>...</td>\n      <td>44.0</td>\n      <td>7800.0</td>\n      <td>5.2</td>\n      <td>yes</td>\n      <td>yes</td>\n      <td>no</td>\n      <td>good</td>\n      <td>no</td>\n      <td>no</td>\n      <td>ckd</td>\n    </tr>\n    <tr>\n      <th>1</th>\n      <td>7.0</td>\n      <td>50.0</td>\n      <td>1.020</td>\n      <td>4.0</td>\n      <td>0.0</td>\n      <td>NaN</td>\n      <td>normal</td>\n      <td>notpresent</td>\n      <td>notpresent</td>\n      <td>NaN</td>\n      <td>...</td>\n      <td>38.0</td>\n      <td>6000.0</td>\n      <td>NaN</td>\n      <td>no</td>\n      <td>no</td>\n      <td>no</td>\n      <td>good</td>\n      <td>no</td>\n      <td>no</td>\n      <td>ckd</td>\n    </tr>\n    <tr>\n      <th>2</th>\n      <td>62.0</td>\n      <td>80.0</td>\n      <td>1.010</td>\n      <td>2.0</td>\n      <td>3.0</td>\n      <td>normal</td>\n      <td>normal</td>\n      <td>notpresent</td>\n      <td>notpresent</td>\n      <td>423.0</td>\n      <td>...</td>\n      <td>31.0</td>\n      <td>7500.0</td>\n      <td>NaN</td>\n      <td>no</td>\n      <td>yes</td>\n      <td>no</td>\n      <td>poor</td>\n      <td>no</td>\n      <td>yes</td>\n      <td>ckd</td>\n    </tr>\n    <tr>\n      <th>3</th>\n      <td>48.0</td>\n      <td>70.0</td>\n      <td>1.005</td>\n      <td>4.0</td>\n      <td>0.0</td>\n      <td>normal</td>\n      <td>abnormal</td>\n      <td>present</td>\n      <td>notpresent</td>\n      <td>117.0</td>\n      <td>...</td>\n      <td>32.0</td>\n      <td>6700.0</td>\n      <td>3.9</td>\n      <td>yes</td>\n      <td>no</td>\n      <td>no</td>\n      <td>poor</td>\n      <td>yes</td>\n      <td>yes</td>\n      <td>ckd</td>\n    </tr>\n    <tr>\n      <th>4</th>\n      <td>51.0</td>\n      <td>80.0</td>\n      <td>1.010</td>\n      <td>2.0</td>\n      <td>0.0</td>\n      <td>normal</td>\n      <td>normal</td>\n      <td>notpresent</td>\n      <td>notpresent</td>\n      <td>106.0</td>\n      <td>...</td>\n      <td>35.0</td>\n      <td>7300.0</td>\n      <td>4.6</td>\n      <td>no</td>\n      <td>no</td>\n      <td>no</td>\n      <td>good</td>\n      <td>no</td>\n      <td>no</td>\n      <td>ckd</td>\n    </tr>\n    <tr>\n      <th>...</th>\n      <td>...</td>\n      <td>...</td>\n      <td>...</td>\n      <td>...</td>\n      <td>...</td>\n      <td>...</td>\n      <td>...</td>\n      <td>...</td>\n      <td>...</td>\n      <td>...</td>\n      <td>...</td>\n      <td>...</td>\n      <td>...</td>\n      <td>...</td>\n      <td>...</td>\n      <td>...</td>\n      <td>...</td>\n      <td>...</td>\n      <td>...</td>\n      <td>...</td>\n      <td>...</td>\n    </tr>\n    <tr>\n      <th>395</th>\n      <td>55.0</td>\n      <td>80.0</td>\n      <td>1.020</td>\n      <td>0.0</td>\n      <td>0.0</td>\n      <td>normal</td>\n      <td>normal</td>\n      <td>notpresent</td>\n      <td>notpresent</td>\n      <td>140.0</td>\n      <td>...</td>\n      <td>47.0</td>\n      <td>6700.0</td>\n      <td>4.9</td>\n      <td>no</td>\n      <td>no</td>\n      <td>no</td>\n      <td>good</td>\n      <td>no</td>\n      <td>no</td>\n      <td>notckd</td>\n    </tr>\n    <tr>\n      <th>396</th>\n      <td>42.0</td>\n      <td>70.0</td>\n      <td>1.025</td>\n      <td>0.0</td>\n      <td>0.0</td>\n      <td>normal</td>\n      <td>normal</td>\n      <td>notpresent</td>\n      <td>notpresent</td>\n      <td>75.0</td>\n      <td>...</td>\n      <td>54.0</td>\n      <td>7800.0</td>\n      <td>6.2</td>\n      <td>no</td>\n      <td>no</td>\n      <td>no</td>\n      <td>good</td>\n      <td>no</td>\n      <td>no</td>\n      <td>notckd</td>\n    </tr>\n    <tr>\n      <th>397</th>\n      <td>12.0</td>\n      <td>80.0</td>\n      <td>1.020</td>\n      <td>0.0</td>\n      <td>0.0</td>\n      <td>normal</td>\n      <td>normal</td>\n      <td>notpresent</td>\n      <td>notpresent</td>\n      <td>100.0</td>\n      <td>...</td>\n      <td>49.0</td>\n      <td>6600.0</td>\n      <td>5.4</td>\n      <td>no</td>\n      <td>no</td>\n      <td>no</td>\n      <td>good</td>\n      <td>no</td>\n      <td>no</td>\n      <td>notckd</td>\n    </tr>\n    <tr>\n      <th>398</th>\n      <td>17.0</td>\n      <td>60.0</td>\n      <td>1.025</td>\n      <td>0.0</td>\n      <td>0.0</td>\n      <td>normal</td>\n      <td>normal</td>\n      <td>notpresent</td>\n      <td>notpresent</td>\n      <td>114.0</td>\n      <td>...</td>\n      <td>51.0</td>\n      <td>7200.0</td>\n      <td>5.9</td>\n      <td>no</td>\n      <td>no</td>\n      <td>no</td>\n      <td>good</td>\n      <td>no</td>\n      <td>no</td>\n      <td>notckd</td>\n    </tr>\n    <tr>\n      <th>399</th>\n      <td>58.0</td>\n      <td>80.0</td>\n      <td>1.025</td>\n      <td>0.0</td>\n      <td>0.0</td>\n      <td>normal</td>\n      <td>normal</td>\n      <td>notpresent</td>\n      <td>notpresent</td>\n      <td>131.0</td>\n      <td>...</td>\n      <td>53.0</td>\n      <td>6800.0</td>\n      <td>6.1</td>\n      <td>no</td>\n      <td>no</td>\n      <td>no</td>\n      <td>good</td>\n      <td>no</td>\n      <td>no</td>\n      <td>notckd</td>\n    </tr>\n  </tbody>\n</table>\n<p>400 rows × 25 columns</p>\n</div>"
     },
     "execution_count": 1,
     "metadata": {},
     "output_type": "execute_result"
    }
   ],
   "source": [
    "import pandas as pd\n",
    "df = pd.read_csv(\"chronic_kidney_disease.csv\", sep=\",\", na_values=[\"\", \" \", \"?\", \"\\t?\", \"?\\t\"], decimal=\".\")\n",
    "df"
   ],
   "metadata": {
    "collapsed": false,
    "pycharm": {
     "name": "#%%\n"
    },
    "ExecuteTime": {
     "end_time": "2024-08-27T14:12:40.798536Z",
     "start_time": "2024-08-27T14:12:40.545125Z"
    }
   }
  },
  {
   "cell_type": "code",
   "execution_count": 2,
   "outputs": [
    {
     "data": {
      "text/plain": "      age  blood_pressure  specific_gravity  albumin  sugar  \\\n0    48.0            80.0             1.020      1.0    0.0   \n1     7.0            50.0             1.020      4.0    0.0   \n2    62.0            80.0             1.010      2.0    3.0   \n3    48.0            70.0             1.005      4.0    0.0   \n4    51.0            80.0             1.010      2.0    0.0   \n..    ...             ...               ...      ...    ...   \n395  55.0            80.0             1.020      0.0    0.0   \n396  42.0            70.0             1.025      0.0    0.0   \n397  12.0            80.0             1.020      0.0    0.0   \n398  17.0            60.0             1.025      0.0    0.0   \n399  58.0            80.0             1.025      0.0    0.0   \n\n     blood_glucose_random  blood_urea  sodium  potassium  hemoglobin  \\\n0                   121.0        36.0     NaN        NaN        15.4   \n1                     NaN        18.0     NaN        NaN        11.3   \n2                   423.0        53.0     NaN        NaN         9.6   \n3                   117.0        56.0   111.0        2.5        11.2   \n4                   106.0        26.0     NaN        NaN        11.6   \n..                    ...         ...     ...        ...         ...   \n395                 140.0        49.0   150.0        4.9        15.7   \n396                  75.0        31.0   141.0        3.5        16.5   \n397                 100.0        26.0   137.0        4.4        15.8   \n398                 114.0        50.0   135.0        4.9        14.2   \n399                 131.0        18.0   141.0        3.5        15.8   \n\n     packed_cell_volume  white_blood_cell_count  red_blood_cell_count   class  \n0                  44.0                  7800.0                   5.2     ckd  \n1                  38.0                  6000.0                   NaN     ckd  \n2                  31.0                  7500.0                   NaN     ckd  \n3                  32.0                  6700.0                   3.9     ckd  \n4                  35.0                  7300.0                   4.6     ckd  \n..                  ...                     ...                   ...     ...  \n395                47.0                  6700.0                   4.9  notckd  \n396                54.0                  7800.0                   6.2  notckd  \n397                49.0                  6600.0                   5.4  notckd  \n398                51.0                  7200.0                   5.9  notckd  \n399                53.0                  6800.0                   6.1  notckd  \n\n[400 rows x 14 columns]",
      "text/html": "<div>\n<style scoped>\n    .dataframe tbody tr th:only-of-type {\n        vertical-align: middle;\n    }\n\n    .dataframe tbody tr th {\n        vertical-align: top;\n    }\n\n    .dataframe thead th {\n        text-align: right;\n    }\n</style>\n<table border=\"1\" class=\"dataframe\">\n  <thead>\n    <tr style=\"text-align: right;\">\n      <th></th>\n      <th>age</th>\n      <th>blood_pressure</th>\n      <th>specific_gravity</th>\n      <th>albumin</th>\n      <th>sugar</th>\n      <th>blood_glucose_random</th>\n      <th>blood_urea</th>\n      <th>sodium</th>\n      <th>potassium</th>\n      <th>hemoglobin</th>\n      <th>packed_cell_volume</th>\n      <th>white_blood_cell_count</th>\n      <th>red_blood_cell_count</th>\n      <th>class</th>\n    </tr>\n  </thead>\n  <tbody>\n    <tr>\n      <th>0</th>\n      <td>48.0</td>\n      <td>80.0</td>\n      <td>1.020</td>\n      <td>1.0</td>\n      <td>0.0</td>\n      <td>121.0</td>\n      <td>36.0</td>\n      <td>NaN</td>\n      <td>NaN</td>\n      <td>15.4</td>\n      <td>44.0</td>\n      <td>7800.0</td>\n      <td>5.2</td>\n      <td>ckd</td>\n    </tr>\n    <tr>\n      <th>1</th>\n      <td>7.0</td>\n      <td>50.0</td>\n      <td>1.020</td>\n      <td>4.0</td>\n      <td>0.0</td>\n      <td>NaN</td>\n      <td>18.0</td>\n      <td>NaN</td>\n      <td>NaN</td>\n      <td>11.3</td>\n      <td>38.0</td>\n      <td>6000.0</td>\n      <td>NaN</td>\n      <td>ckd</td>\n    </tr>\n    <tr>\n      <th>2</th>\n      <td>62.0</td>\n      <td>80.0</td>\n      <td>1.010</td>\n      <td>2.0</td>\n      <td>3.0</td>\n      <td>423.0</td>\n      <td>53.0</td>\n      <td>NaN</td>\n      <td>NaN</td>\n      <td>9.6</td>\n      <td>31.0</td>\n      <td>7500.0</td>\n      <td>NaN</td>\n      <td>ckd</td>\n    </tr>\n    <tr>\n      <th>3</th>\n      <td>48.0</td>\n      <td>70.0</td>\n      <td>1.005</td>\n      <td>4.0</td>\n      <td>0.0</td>\n      <td>117.0</td>\n      <td>56.0</td>\n      <td>111.0</td>\n      <td>2.5</td>\n      <td>11.2</td>\n      <td>32.0</td>\n      <td>6700.0</td>\n      <td>3.9</td>\n      <td>ckd</td>\n    </tr>\n    <tr>\n      <th>4</th>\n      <td>51.0</td>\n      <td>80.0</td>\n      <td>1.010</td>\n      <td>2.0</td>\n      <td>0.0</td>\n      <td>106.0</td>\n      <td>26.0</td>\n      <td>NaN</td>\n      <td>NaN</td>\n      <td>11.6</td>\n      <td>35.0</td>\n      <td>7300.0</td>\n      <td>4.6</td>\n      <td>ckd</td>\n    </tr>\n    <tr>\n      <th>...</th>\n      <td>...</td>\n      <td>...</td>\n      <td>...</td>\n      <td>...</td>\n      <td>...</td>\n      <td>...</td>\n      <td>...</td>\n      <td>...</td>\n      <td>...</td>\n      <td>...</td>\n      <td>...</td>\n      <td>...</td>\n      <td>...</td>\n      <td>...</td>\n    </tr>\n    <tr>\n      <th>395</th>\n      <td>55.0</td>\n      <td>80.0</td>\n      <td>1.020</td>\n      <td>0.0</td>\n      <td>0.0</td>\n      <td>140.0</td>\n      <td>49.0</td>\n      <td>150.0</td>\n      <td>4.9</td>\n      <td>15.7</td>\n      <td>47.0</td>\n      <td>6700.0</td>\n      <td>4.9</td>\n      <td>notckd</td>\n    </tr>\n    <tr>\n      <th>396</th>\n      <td>42.0</td>\n      <td>70.0</td>\n      <td>1.025</td>\n      <td>0.0</td>\n      <td>0.0</td>\n      <td>75.0</td>\n      <td>31.0</td>\n      <td>141.0</td>\n      <td>3.5</td>\n      <td>16.5</td>\n      <td>54.0</td>\n      <td>7800.0</td>\n      <td>6.2</td>\n      <td>notckd</td>\n    </tr>\n    <tr>\n      <th>397</th>\n      <td>12.0</td>\n      <td>80.0</td>\n      <td>1.020</td>\n      <td>0.0</td>\n      <td>0.0</td>\n      <td>100.0</td>\n      <td>26.0</td>\n      <td>137.0</td>\n      <td>4.4</td>\n      <td>15.8</td>\n      <td>49.0</td>\n      <td>6600.0</td>\n      <td>5.4</td>\n      <td>notckd</td>\n    </tr>\n    <tr>\n      <th>398</th>\n      <td>17.0</td>\n      <td>60.0</td>\n      <td>1.025</td>\n      <td>0.0</td>\n      <td>0.0</td>\n      <td>114.0</td>\n      <td>50.0</td>\n      <td>135.0</td>\n      <td>4.9</td>\n      <td>14.2</td>\n      <td>51.0</td>\n      <td>7200.0</td>\n      <td>5.9</td>\n      <td>notckd</td>\n    </tr>\n    <tr>\n      <th>399</th>\n      <td>58.0</td>\n      <td>80.0</td>\n      <td>1.025</td>\n      <td>0.0</td>\n      <td>0.0</td>\n      <td>131.0</td>\n      <td>18.0</td>\n      <td>141.0</td>\n      <td>3.5</td>\n      <td>15.8</td>\n      <td>53.0</td>\n      <td>6800.0</td>\n      <td>6.1</td>\n      <td>notckd</td>\n    </tr>\n  </tbody>\n</table>\n<p>400 rows × 14 columns</p>\n</div>"
     },
     "execution_count": 2,
     "metadata": {},
     "output_type": "execute_result"
    }
   ],
   "source": [
    "df.drop(columns=['rbc', 'pc', 'pcc', 'ba', 'htn', 'dm', 'cad', 'appet', 'pe', 'ane', 'su'], inplace=True)\n",
    "df"
   ],
   "metadata": {
    "collapsed": false,
    "pycharm": {
     "name": "#%%\n"
    },
    "ExecuteTime": {
     "end_time": "2024-08-27T14:12:40.808615Z",
     "start_time": "2024-08-27T14:12:40.798536Z"
    }
   }
  },
  {
   "cell_type": "markdown",
   "source": [
    "## Datan karsiminen\n",
    "Ylemmässä koodisolussa poistimme turhat sarakkeet, joita ei pyydetty tehtävänannossa. Seuraavaksi tulemme etsimään ja poistamaan kaikki uniikit arvot."
   ],
   "metadata": {
    "collapsed": false
   }
  },
  {
   "cell_type": "code",
   "outputs": [
    {
     "data": {
      "text/plain": "               age  blood_pressure  specific_gravity     albumin       sugar  \\\ncount   391.000000      388.000000        353.000000  354.000000  351.000000   \nunique         NaN             NaN               NaN         NaN         NaN   \ntop            NaN             NaN               NaN         NaN         NaN   \nfreq           NaN             NaN               NaN         NaN         NaN   \nmean     51.483376       76.469072          1.017408    1.016949    0.450142   \nstd      17.169714       13.683637          0.005717    1.352679    1.099191   \nmin       2.000000       50.000000          1.005000    0.000000    0.000000   \n25%      42.000000       70.000000          1.010000    0.000000    0.000000   \n50%      55.000000       80.000000          1.020000    0.000000    0.000000   \n75%      64.500000       80.000000          1.020000    2.000000    0.000000   \nmax      90.000000      180.000000          1.025000    5.000000    5.000000   \n\n        blood_glucose_random  blood_urea      sodium   potassium  hemoglobin  \\\ncount             356.000000  381.000000  313.000000  312.000000  348.000000   \nunique                   NaN         NaN         NaN         NaN         NaN   \ntop                      NaN         NaN         NaN         NaN         NaN   \nfreq                     NaN         NaN         NaN         NaN         NaN   \nmean              148.036517   57.425722  137.528754    4.627244   12.526437   \nstd                79.281714   50.503006   10.408752    3.193904    2.912587   \nmin                22.000000    1.500000    4.500000    2.500000    3.100000   \n25%                99.000000   27.000000  135.000000    3.800000   10.300000   \n50%               121.000000   42.000000  138.000000    4.400000   12.650000   \n75%               163.000000   66.000000  142.000000    4.900000   15.000000   \nmax               490.000000  391.000000  163.000000   47.000000   17.800000   \n\n        packed_cell_volume  white_blood_cell_count  red_blood_cell_count class  \ncount           329.000000              294.000000            269.000000   400  \nunique                 NaN                     NaN                   NaN     2  \ntop                    NaN                     NaN                   NaN   ckd  \nfreq                   NaN                     NaN                   NaN   250  \nmean             38.884498             8406.122449              4.707435   NaN  \nstd               8.990105             2944.474190              1.025323   NaN  \nmin               9.000000             2200.000000              2.100000   NaN  \n25%              32.000000             6500.000000              3.900000   NaN  \n50%              40.000000             8000.000000              4.800000   NaN  \n75%              45.000000             9800.000000              5.400000   NaN  \nmax              54.000000            26400.000000              8.000000   NaN  ",
      "text/html": "<div>\n<style scoped>\n    .dataframe tbody tr th:only-of-type {\n        vertical-align: middle;\n    }\n\n    .dataframe tbody tr th {\n        vertical-align: top;\n    }\n\n    .dataframe thead th {\n        text-align: right;\n    }\n</style>\n<table border=\"1\" class=\"dataframe\">\n  <thead>\n    <tr style=\"text-align: right;\">\n      <th></th>\n      <th>age</th>\n      <th>blood_pressure</th>\n      <th>specific_gravity</th>\n      <th>albumin</th>\n      <th>sugar</th>\n      <th>blood_glucose_random</th>\n      <th>blood_urea</th>\n      <th>sodium</th>\n      <th>potassium</th>\n      <th>hemoglobin</th>\n      <th>packed_cell_volume</th>\n      <th>white_blood_cell_count</th>\n      <th>red_blood_cell_count</th>\n      <th>class</th>\n    </tr>\n  </thead>\n  <tbody>\n    <tr>\n      <th>count</th>\n      <td>391.000000</td>\n      <td>388.000000</td>\n      <td>353.000000</td>\n      <td>354.000000</td>\n      <td>351.000000</td>\n      <td>356.000000</td>\n      <td>381.000000</td>\n      <td>313.000000</td>\n      <td>312.000000</td>\n      <td>348.000000</td>\n      <td>329.000000</td>\n      <td>294.000000</td>\n      <td>269.000000</td>\n      <td>400</td>\n    </tr>\n    <tr>\n      <th>unique</th>\n      <td>NaN</td>\n      <td>NaN</td>\n      <td>NaN</td>\n      <td>NaN</td>\n      <td>NaN</td>\n      <td>NaN</td>\n      <td>NaN</td>\n      <td>NaN</td>\n      <td>NaN</td>\n      <td>NaN</td>\n      <td>NaN</td>\n      <td>NaN</td>\n      <td>NaN</td>\n      <td>2</td>\n    </tr>\n    <tr>\n      <th>top</th>\n      <td>NaN</td>\n      <td>NaN</td>\n      <td>NaN</td>\n      <td>NaN</td>\n      <td>NaN</td>\n      <td>NaN</td>\n      <td>NaN</td>\n      <td>NaN</td>\n      <td>NaN</td>\n      <td>NaN</td>\n      <td>NaN</td>\n      <td>NaN</td>\n      <td>NaN</td>\n      <td>ckd</td>\n    </tr>\n    <tr>\n      <th>freq</th>\n      <td>NaN</td>\n      <td>NaN</td>\n      <td>NaN</td>\n      <td>NaN</td>\n      <td>NaN</td>\n      <td>NaN</td>\n      <td>NaN</td>\n      <td>NaN</td>\n      <td>NaN</td>\n      <td>NaN</td>\n      <td>NaN</td>\n      <td>NaN</td>\n      <td>NaN</td>\n      <td>250</td>\n    </tr>\n    <tr>\n      <th>mean</th>\n      <td>51.483376</td>\n      <td>76.469072</td>\n      <td>1.017408</td>\n      <td>1.016949</td>\n      <td>0.450142</td>\n      <td>148.036517</td>\n      <td>57.425722</td>\n      <td>137.528754</td>\n      <td>4.627244</td>\n      <td>12.526437</td>\n      <td>38.884498</td>\n      <td>8406.122449</td>\n      <td>4.707435</td>\n      <td>NaN</td>\n    </tr>\n    <tr>\n      <th>std</th>\n      <td>17.169714</td>\n      <td>13.683637</td>\n      <td>0.005717</td>\n      <td>1.352679</td>\n      <td>1.099191</td>\n      <td>79.281714</td>\n      <td>50.503006</td>\n      <td>10.408752</td>\n      <td>3.193904</td>\n      <td>2.912587</td>\n      <td>8.990105</td>\n      <td>2944.474190</td>\n      <td>1.025323</td>\n      <td>NaN</td>\n    </tr>\n    <tr>\n      <th>min</th>\n      <td>2.000000</td>\n      <td>50.000000</td>\n      <td>1.005000</td>\n      <td>0.000000</td>\n      <td>0.000000</td>\n      <td>22.000000</td>\n      <td>1.500000</td>\n      <td>4.500000</td>\n      <td>2.500000</td>\n      <td>3.100000</td>\n      <td>9.000000</td>\n      <td>2200.000000</td>\n      <td>2.100000</td>\n      <td>NaN</td>\n    </tr>\n    <tr>\n      <th>25%</th>\n      <td>42.000000</td>\n      <td>70.000000</td>\n      <td>1.010000</td>\n      <td>0.000000</td>\n      <td>0.000000</td>\n      <td>99.000000</td>\n      <td>27.000000</td>\n      <td>135.000000</td>\n      <td>3.800000</td>\n      <td>10.300000</td>\n      <td>32.000000</td>\n      <td>6500.000000</td>\n      <td>3.900000</td>\n      <td>NaN</td>\n    </tr>\n    <tr>\n      <th>50%</th>\n      <td>55.000000</td>\n      <td>80.000000</td>\n      <td>1.020000</td>\n      <td>0.000000</td>\n      <td>0.000000</td>\n      <td>121.000000</td>\n      <td>42.000000</td>\n      <td>138.000000</td>\n      <td>4.400000</td>\n      <td>12.650000</td>\n      <td>40.000000</td>\n      <td>8000.000000</td>\n      <td>4.800000</td>\n      <td>NaN</td>\n    </tr>\n    <tr>\n      <th>75%</th>\n      <td>64.500000</td>\n      <td>80.000000</td>\n      <td>1.020000</td>\n      <td>2.000000</td>\n      <td>0.000000</td>\n      <td>163.000000</td>\n      <td>66.000000</td>\n      <td>142.000000</td>\n      <td>4.900000</td>\n      <td>15.000000</td>\n      <td>45.000000</td>\n      <td>9800.000000</td>\n      <td>5.400000</td>\n      <td>NaN</td>\n    </tr>\n    <tr>\n      <th>max</th>\n      <td>90.000000</td>\n      <td>180.000000</td>\n      <td>1.025000</td>\n      <td>5.000000</td>\n      <td>5.000000</td>\n      <td>490.000000</td>\n      <td>391.000000</td>\n      <td>163.000000</td>\n      <td>47.000000</td>\n      <td>17.800000</td>\n      <td>54.000000</td>\n      <td>26400.000000</td>\n      <td>8.000000</td>\n      <td>NaN</td>\n    </tr>\n  </tbody>\n</table>\n</div>"
     },
     "execution_count": 12,
     "metadata": {},
     "output_type": "execute_result"
    }
   ],
   "source": [
    "df.describe(include='all')"
   ],
   "metadata": {
    "collapsed": false,
    "ExecuteTime": {
     "end_time": "2024-08-27T14:12:56.618196Z",
     "start_time": "2024-08-27T14:12:56.603672Z"
    }
   },
   "execution_count": 12
  },
  {
   "cell_type": "code",
   "outputs": [
    {
     "data": {
      "text/plain": "array([44., 38., 31., 32., 35., 39., 36., 33., 29., 28., nan, 16., 24.,\n       37., 30., 34., 40., 45., 27., 48., 52., 14., 22., 18., 42., 17.,\n       46., 23., 19., 25., 41., 26., 15., 21., 43., 20., 47.,  9., 49.,\n       50., 53., 51., 54.])"
     },
     "execution_count": 4,
     "metadata": {},
     "output_type": "execute_result"
    }
   ],
   "source": [
    "df.packed_cell_volume.unique()"
   ],
   "metadata": {
    "collapsed": false,
    "ExecuteTime": {
     "end_time": "2024-08-27T14:12:40.841063Z",
     "start_time": "2024-08-27T14:12:40.837504Z"
    }
   },
   "execution_count": 4
  },
  {
   "cell_type": "code",
   "outputs": [],
   "source": [
    "# df.packed_cell_volume = df.packed_cell_volume.str.extract('(\\\\d+)', expand=False)"
   ],
   "metadata": {
    "collapsed": false,
    "ExecuteTime": {
     "end_time": "2024-08-27T14:12:40.847329Z",
     "start_time": "2024-08-27T14:12:40.841063Z"
    }
   },
   "execution_count": 5
  },
  {
   "cell_type": "markdown",
   "source": [
    "## Datan muuttaminen\n",
    "Kahdessa yllä olevassa solussa "
   ],
   "metadata": {
    "collapsed": false
   }
  },
  {
   "cell_type": "code",
   "outputs": [
    {
     "data": {
      "text/plain": "array([5.2, nan, 3.9, 4.6, 4.4, 5. , 4. , 3.7, 3.8, 3.4, 2.6, 2.8, 4.3,\n       3.2, 3.6, 4.1, 4.9, 2.5, 4.2, 4.5, 3.1, 4.7, 3.5, 6. , 2.1, 5.6,\n       2.3, 2.9, 2.7, 8. , 3.3, 3. , 2.4, 4.8, 5.4, 6.1, 6.2, 6.3, 5.1,\n       5.8, 5.5, 5.3, 6.4, 5.7, 5.9, 6.5])"
     },
     "execution_count": 6,
     "metadata": {},
     "output_type": "execute_result"
    }
   ],
   "source": [
    "df.red_blood_cell_count.unique()"
   ],
   "metadata": {
    "collapsed": false,
    "ExecuteTime": {
     "end_time": "2024-08-27T14:12:40.854836Z",
     "start_time": "2024-08-27T14:12:40.847329Z"
    }
   },
   "execution_count": 6
  },
  {
   "cell_type": "code",
   "outputs": [],
   "source": [
    "# df.white_blood_cell_count = df.white_blood_cell_count.str.extract('(\\\\d+)', expand=False)\n",
    "# df.red_blood_cell_count = df.red_blood_cell_count.str.extract('(\\\\d+)', expand=False)"
   ],
   "metadata": {
    "collapsed": false,
    "ExecuteTime": {
     "end_time": "2024-08-27T14:12:40.858747Z",
     "start_time": "2024-08-27T14:12:40.855351Z"
    }
   },
   "execution_count": 7
  },
  {
   "cell_type": "code",
   "outputs": [
    {
     "data": {
      "text/plain": "array(['ckd', 'ckd\\t', 'notckd'], dtype=object)"
     },
     "execution_count": 8,
     "metadata": {},
     "output_type": "execute_result"
    }
   ],
   "source": [
    "df['class'].unique()"
   ],
   "metadata": {
    "collapsed": false,
    "ExecuteTime": {
     "end_time": "2024-08-27T14:12:40.864752Z",
     "start_time": "2024-08-27T14:12:40.858747Z"
    }
   },
   "execution_count": 8
  },
  {
   "cell_type": "code",
   "outputs": [],
   "source": [
    "for i in df.columns:\n",
    "    if df[i].dtypes == 'object':\n",
    "        df[i] = df[i].str.replace(\"\\t\", \"\")"
   ],
   "metadata": {
    "collapsed": false,
    "ExecuteTime": {
     "end_time": "2024-08-27T14:12:40.869876Z",
     "start_time": "2024-08-27T14:12:40.864752Z"
    }
   },
   "execution_count": 9
  },
  {
   "cell_type": "code",
   "outputs": [
    {
     "data": {
      "text/plain": "age                       float64\nblood_pressure            float64\nspecific_gravity          float64\nalbumin                   float64\nsugar                     float64\nblood_glucose_random      float64\nblood_urea                float64\nsodium                    float64\npotassium                 float64\nhemoglobin                float64\npacked_cell_volume        float64\nwhite_blood_cell_count    float64\nred_blood_cell_count      float64\nclass                      object\ndtype: object"
     },
     "execution_count": 10,
     "metadata": {},
     "output_type": "execute_result"
    }
   ],
   "source": [
    "df.dtypes\n"
   ],
   "metadata": {
    "collapsed": false,
    "ExecuteTime": {
     "end_time": "2024-08-27T14:12:40.877524Z",
     "start_time": "2024-08-27T14:12:40.869876Z"
    }
   },
   "execution_count": 10
  },
  {
   "cell_type": "code",
   "outputs": [
    {
     "data": {
      "text/plain": "age                        float64\nblood_pressure             float64\nspecific_gravity           float64\nalbumin                    float64\nsugar                      float64\nblood_glucose_random       float64\nblood_urea                 float64\nsodium                     float64\npotassium                  float64\nhemoglobin                 float64\npacked_cell_volume         float64\nwhite_blood_cell_count     float64\nred_blood_cell_count       float64\nclass                     category\ndtype: object"
     },
     "execution_count": 11,
     "metadata": {},
     "output_type": "execute_result"
    }
   ],
   "source": [
    "df.packed_cell_volume = df.packed_cell_volume.astype(float)\n",
    "df.white_blood_cell_count = df.white_blood_cell_count.astype(float)\n",
    "df.red_blood_cell_count = df.red_blood_cell_count.astype(float)\n",
    "\n",
    "df['class'] = pd.Categorical(df['class'])\n",
    "df['class'] = df['class'].astype('category')\n",
    "df.dtypes"
   ],
   "metadata": {
    "collapsed": false,
    "ExecuteTime": {
     "end_time": "2024-08-27T14:12:40.884153Z",
     "start_time": "2024-08-27T14:12:40.877524Z"
    }
   },
   "execution_count": 11
  },
  {
   "cell_type": "code",
   "outputs": [],
   "source": [
    "df['class'] = df['class'].map({'ckd': 'a', 'notckd': 'c'})\n",
    "df['class'].unique()"
   ],
   "metadata": {
    "collapsed": false,
    "ExecuteTime": {
     "end_time": "2024-08-27T14:16:34.737378Z",
     "start_time": "2024-08-27T14:16:34.733537Z"
    }
   },
   "execution_count": 13
  },
  {
   "cell_type": "code",
   "outputs": [],
   "source": [],
   "metadata": {
    "collapsed": false
   }
  }
 ],
 "metadata": {
  "kernelspec": {
   "display_name": "Python 3",
   "language": "python",
   "name": "python3"
  },
  "language_info": {
   "codemirror_mode": {
    "name": "ipython",
    "version": 2
   },
   "file_extension": ".py",
   "mimetype": "text/x-python",
   "name": "python",
   "nbconvert_exporter": "python",
   "pygments_lexer": "ipython2",
   "version": "2.7.6"
  }
 },
 "nbformat": 4,
 "nbformat_minor": 0
}
