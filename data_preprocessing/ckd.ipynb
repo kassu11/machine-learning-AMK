{
 "cells": [
  {
   "cell_type": "markdown",
   "source": [
    "# Datan esikäsittely\n",
    "Aluksi muutimme käsin .arff tiedoston .csv- tiedostoksi. Siistimme myös tiedostosta muutamasta rivistä ylimääräiset pilkut."
   ],
   "metadata": {
    "collapsed": false
   }
  },
  {
   "cell_type": "code",
   "execution_count": 7,
   "outputs": [
    {
     "data": {
      "text/plain": "      age  blood_pressure  specific_gravity  albumin  sugar     rbc        pc  \\\n0    48.0            80.0             1.020      1.0    0.0     NaN    normal   \n1     7.0            50.0             1.020      4.0    0.0     NaN    normal   \n2    62.0            80.0             1.010      2.0    3.0  normal    normal   \n3    48.0            70.0             1.005      4.0    0.0  normal  abnormal   \n4    51.0            80.0             1.010      2.0    0.0  normal    normal   \n..    ...             ...               ...      ...    ...     ...       ...   \n395  55.0            80.0             1.020      0.0    0.0  normal    normal   \n396  42.0            70.0             1.025      0.0    0.0  normal    normal   \n397  12.0            80.0             1.020      0.0    0.0  normal    normal   \n398  17.0            60.0             1.025      0.0    0.0  normal    normal   \n399  58.0            80.0             1.025      0.0    0.0  normal    normal   \n\n            pcc          ba  blood_glucose_random  ...  packed_cell_volume  \\\n0    notpresent  notpresent                 121.0  ...                  44   \n1    notpresent  notpresent                   NaN  ...                  38   \n2    notpresent  notpresent                 423.0  ...                  31   \n3       present  notpresent                 117.0  ...                  32   \n4    notpresent  notpresent                 106.0  ...                  35   \n..          ...         ...                   ...  ...                 ...   \n395  notpresent  notpresent                 140.0  ...                  47   \n396  notpresent  notpresent                  75.0  ...                  54   \n397  notpresent  notpresent                 100.0  ...                  49   \n398  notpresent  notpresent                 114.0  ...                  51   \n399  notpresent  notpresent                 131.0  ...                  53   \n\n     white_blood_cell_count  red_blood_cell_count  htn   dm cad appet   pe  \\\n0                      7800                   5.2  yes  yes  no  good   no   \n1                      6000                   NaN   no   no  no  good   no   \n2                      7500                   NaN   no  yes  no  poor   no   \n3                      6700                   3.9  yes   no  no  poor  yes   \n4                      7300                   4.6   no   no  no  good   no   \n..                      ...                   ...  ...  ...  ..   ...  ...   \n395                    6700                   4.9   no   no  no  good   no   \n396                    7800                   6.2   no   no  no  good   no   \n397                    6600                   5.4   no   no  no  good   no   \n398                    7200                   5.9   no   no  no  good   no   \n399                    6800                   6.1   no   no  no  good   no   \n\n     ane   class  \n0     no     ckd  \n1     no     ckd  \n2    yes     ckd  \n3    yes     ckd  \n4     no     ckd  \n..   ...     ...  \n395   no  notckd  \n396   no  notckd  \n397   no  notckd  \n398   no  notckd  \n399   no  notckd  \n\n[400 rows x 25 columns]",
      "text/html": "<div>\n<style scoped>\n    .dataframe tbody tr th:only-of-type {\n        vertical-align: middle;\n    }\n\n    .dataframe tbody tr th {\n        vertical-align: top;\n    }\n\n    .dataframe thead th {\n        text-align: right;\n    }\n</style>\n<table border=\"1\" class=\"dataframe\">\n  <thead>\n    <tr style=\"text-align: right;\">\n      <th></th>\n      <th>age</th>\n      <th>blood_pressure</th>\n      <th>specific_gravity</th>\n      <th>albumin</th>\n      <th>sugar</th>\n      <th>rbc</th>\n      <th>pc</th>\n      <th>pcc</th>\n      <th>ba</th>\n      <th>blood_glucose_random</th>\n      <th>...</th>\n      <th>packed_cell_volume</th>\n      <th>white_blood_cell_count</th>\n      <th>red_blood_cell_count</th>\n      <th>htn</th>\n      <th>dm</th>\n      <th>cad</th>\n      <th>appet</th>\n      <th>pe</th>\n      <th>ane</th>\n      <th>class</th>\n    </tr>\n  </thead>\n  <tbody>\n    <tr>\n      <th>0</th>\n      <td>48.0</td>\n      <td>80.0</td>\n      <td>1.020</td>\n      <td>1.0</td>\n      <td>0.0</td>\n      <td>NaN</td>\n      <td>normal</td>\n      <td>notpresent</td>\n      <td>notpresent</td>\n      <td>121.0</td>\n      <td>...</td>\n      <td>44</td>\n      <td>7800</td>\n      <td>5.2</td>\n      <td>yes</td>\n      <td>yes</td>\n      <td>no</td>\n      <td>good</td>\n      <td>no</td>\n      <td>no</td>\n      <td>ckd</td>\n    </tr>\n    <tr>\n      <th>1</th>\n      <td>7.0</td>\n      <td>50.0</td>\n      <td>1.020</td>\n      <td>4.0</td>\n      <td>0.0</td>\n      <td>NaN</td>\n      <td>normal</td>\n      <td>notpresent</td>\n      <td>notpresent</td>\n      <td>NaN</td>\n      <td>...</td>\n      <td>38</td>\n      <td>6000</td>\n      <td>NaN</td>\n      <td>no</td>\n      <td>no</td>\n      <td>no</td>\n      <td>good</td>\n      <td>no</td>\n      <td>no</td>\n      <td>ckd</td>\n    </tr>\n    <tr>\n      <th>2</th>\n      <td>62.0</td>\n      <td>80.0</td>\n      <td>1.010</td>\n      <td>2.0</td>\n      <td>3.0</td>\n      <td>normal</td>\n      <td>normal</td>\n      <td>notpresent</td>\n      <td>notpresent</td>\n      <td>423.0</td>\n      <td>...</td>\n      <td>31</td>\n      <td>7500</td>\n      <td>NaN</td>\n      <td>no</td>\n      <td>yes</td>\n      <td>no</td>\n      <td>poor</td>\n      <td>no</td>\n      <td>yes</td>\n      <td>ckd</td>\n    </tr>\n    <tr>\n      <th>3</th>\n      <td>48.0</td>\n      <td>70.0</td>\n      <td>1.005</td>\n      <td>4.0</td>\n      <td>0.0</td>\n      <td>normal</td>\n      <td>abnormal</td>\n      <td>present</td>\n      <td>notpresent</td>\n      <td>117.0</td>\n      <td>...</td>\n      <td>32</td>\n      <td>6700</td>\n      <td>3.9</td>\n      <td>yes</td>\n      <td>no</td>\n      <td>no</td>\n      <td>poor</td>\n      <td>yes</td>\n      <td>yes</td>\n      <td>ckd</td>\n    </tr>\n    <tr>\n      <th>4</th>\n      <td>51.0</td>\n      <td>80.0</td>\n      <td>1.010</td>\n      <td>2.0</td>\n      <td>0.0</td>\n      <td>normal</td>\n      <td>normal</td>\n      <td>notpresent</td>\n      <td>notpresent</td>\n      <td>106.0</td>\n      <td>...</td>\n      <td>35</td>\n      <td>7300</td>\n      <td>4.6</td>\n      <td>no</td>\n      <td>no</td>\n      <td>no</td>\n      <td>good</td>\n      <td>no</td>\n      <td>no</td>\n      <td>ckd</td>\n    </tr>\n    <tr>\n      <th>...</th>\n      <td>...</td>\n      <td>...</td>\n      <td>...</td>\n      <td>...</td>\n      <td>...</td>\n      <td>...</td>\n      <td>...</td>\n      <td>...</td>\n      <td>...</td>\n      <td>...</td>\n      <td>...</td>\n      <td>...</td>\n      <td>...</td>\n      <td>...</td>\n      <td>...</td>\n      <td>...</td>\n      <td>...</td>\n      <td>...</td>\n      <td>...</td>\n      <td>...</td>\n      <td>...</td>\n    </tr>\n    <tr>\n      <th>395</th>\n      <td>55.0</td>\n      <td>80.0</td>\n      <td>1.020</td>\n      <td>0.0</td>\n      <td>0.0</td>\n      <td>normal</td>\n      <td>normal</td>\n      <td>notpresent</td>\n      <td>notpresent</td>\n      <td>140.0</td>\n      <td>...</td>\n      <td>47</td>\n      <td>6700</td>\n      <td>4.9</td>\n      <td>no</td>\n      <td>no</td>\n      <td>no</td>\n      <td>good</td>\n      <td>no</td>\n      <td>no</td>\n      <td>notckd</td>\n    </tr>\n    <tr>\n      <th>396</th>\n      <td>42.0</td>\n      <td>70.0</td>\n      <td>1.025</td>\n      <td>0.0</td>\n      <td>0.0</td>\n      <td>normal</td>\n      <td>normal</td>\n      <td>notpresent</td>\n      <td>notpresent</td>\n      <td>75.0</td>\n      <td>...</td>\n      <td>54</td>\n      <td>7800</td>\n      <td>6.2</td>\n      <td>no</td>\n      <td>no</td>\n      <td>no</td>\n      <td>good</td>\n      <td>no</td>\n      <td>no</td>\n      <td>notckd</td>\n    </tr>\n    <tr>\n      <th>397</th>\n      <td>12.0</td>\n      <td>80.0</td>\n      <td>1.020</td>\n      <td>0.0</td>\n      <td>0.0</td>\n      <td>normal</td>\n      <td>normal</td>\n      <td>notpresent</td>\n      <td>notpresent</td>\n      <td>100.0</td>\n      <td>...</td>\n      <td>49</td>\n      <td>6600</td>\n      <td>5.4</td>\n      <td>no</td>\n      <td>no</td>\n      <td>no</td>\n      <td>good</td>\n      <td>no</td>\n      <td>no</td>\n      <td>notckd</td>\n    </tr>\n    <tr>\n      <th>398</th>\n      <td>17.0</td>\n      <td>60.0</td>\n      <td>1.025</td>\n      <td>0.0</td>\n      <td>0.0</td>\n      <td>normal</td>\n      <td>normal</td>\n      <td>notpresent</td>\n      <td>notpresent</td>\n      <td>114.0</td>\n      <td>...</td>\n      <td>51</td>\n      <td>7200</td>\n      <td>5.9</td>\n      <td>no</td>\n      <td>no</td>\n      <td>no</td>\n      <td>good</td>\n      <td>no</td>\n      <td>no</td>\n      <td>notckd</td>\n    </tr>\n    <tr>\n      <th>399</th>\n      <td>58.0</td>\n      <td>80.0</td>\n      <td>1.025</td>\n      <td>0.0</td>\n      <td>0.0</td>\n      <td>normal</td>\n      <td>normal</td>\n      <td>notpresent</td>\n      <td>notpresent</td>\n      <td>131.0</td>\n      <td>...</td>\n      <td>53</td>\n      <td>6800</td>\n      <td>6.1</td>\n      <td>no</td>\n      <td>no</td>\n      <td>no</td>\n      <td>good</td>\n      <td>no</td>\n      <td>no</td>\n      <td>notckd</td>\n    </tr>\n  </tbody>\n</table>\n<p>400 rows × 25 columns</p>\n</div>"
     },
     "execution_count": 7,
     "metadata": {},
     "output_type": "execute_result"
    }
   ],
   "source": [
    "import pandas as pd\n",
    "df = pd.read_csv(\"chronic_kidney_disease.csv\", sep=\",\", na_values=[\"\", \" \", \"?\"], decimal=\".\")\n",
    "df"
   ],
   "metadata": {
    "collapsed": false,
    "pycharm": {
     "name": "#%%\n"
    },
    "ExecuteTime": {
     "end_time": "2024-08-27T13:25:31.892729Z",
     "start_time": "2024-08-27T13:25:31.882006Z"
    }
   }
  },
  {
   "cell_type": "code",
   "execution_count": 8,
   "outputs": [
    {
     "data": {
      "text/plain": "      age  blood_pressure  specific_gravity  albumin  sugar  \\\n0    48.0            80.0             1.020      1.0    0.0   \n1     7.0            50.0             1.020      4.0    0.0   \n2    62.0            80.0             1.010      2.0    3.0   \n3    48.0            70.0             1.005      4.0    0.0   \n4    51.0            80.0             1.010      2.0    0.0   \n..    ...             ...               ...      ...    ...   \n395  55.0            80.0             1.020      0.0    0.0   \n396  42.0            70.0             1.025      0.0    0.0   \n397  12.0            80.0             1.020      0.0    0.0   \n398  17.0            60.0             1.025      0.0    0.0   \n399  58.0            80.0             1.025      0.0    0.0   \n\n     blood_glucose_random  blood_urea  sodium  potassium  hemoglobin  \\\n0                   121.0        36.0     NaN        NaN        15.4   \n1                     NaN        18.0     NaN        NaN        11.3   \n2                   423.0        53.0     NaN        NaN         9.6   \n3                   117.0        56.0   111.0        2.5        11.2   \n4                   106.0        26.0     NaN        NaN        11.6   \n..                    ...         ...     ...        ...         ...   \n395                 140.0        49.0   150.0        4.9        15.7   \n396                  75.0        31.0   141.0        3.5        16.5   \n397                 100.0        26.0   137.0        4.4        15.8   \n398                 114.0        50.0   135.0        4.9        14.2   \n399                 131.0        18.0   141.0        3.5        15.8   \n\n    packed_cell_volume white_blood_cell_count red_blood_cell_count   class  \n0                   44                   7800                  5.2     ckd  \n1                   38                   6000                  NaN     ckd  \n2                   31                   7500                  NaN     ckd  \n3                   32                   6700                  3.9     ckd  \n4                   35                   7300                  4.6     ckd  \n..                 ...                    ...                  ...     ...  \n395                 47                   6700                  4.9  notckd  \n396                 54                   7800                  6.2  notckd  \n397                 49                   6600                  5.4  notckd  \n398                 51                   7200                  5.9  notckd  \n399                 53                   6800                  6.1  notckd  \n\n[400 rows x 14 columns]",
      "text/html": "<div>\n<style scoped>\n    .dataframe tbody tr th:only-of-type {\n        vertical-align: middle;\n    }\n\n    .dataframe tbody tr th {\n        vertical-align: top;\n    }\n\n    .dataframe thead th {\n        text-align: right;\n    }\n</style>\n<table border=\"1\" class=\"dataframe\">\n  <thead>\n    <tr style=\"text-align: right;\">\n      <th></th>\n      <th>age</th>\n      <th>blood_pressure</th>\n      <th>specific_gravity</th>\n      <th>albumin</th>\n      <th>sugar</th>\n      <th>blood_glucose_random</th>\n      <th>blood_urea</th>\n      <th>sodium</th>\n      <th>potassium</th>\n      <th>hemoglobin</th>\n      <th>packed_cell_volume</th>\n      <th>white_blood_cell_count</th>\n      <th>red_blood_cell_count</th>\n      <th>class</th>\n    </tr>\n  </thead>\n  <tbody>\n    <tr>\n      <th>0</th>\n      <td>48.0</td>\n      <td>80.0</td>\n      <td>1.020</td>\n      <td>1.0</td>\n      <td>0.0</td>\n      <td>121.0</td>\n      <td>36.0</td>\n      <td>NaN</td>\n      <td>NaN</td>\n      <td>15.4</td>\n      <td>44</td>\n      <td>7800</td>\n      <td>5.2</td>\n      <td>ckd</td>\n    </tr>\n    <tr>\n      <th>1</th>\n      <td>7.0</td>\n      <td>50.0</td>\n      <td>1.020</td>\n      <td>4.0</td>\n      <td>0.0</td>\n      <td>NaN</td>\n      <td>18.0</td>\n      <td>NaN</td>\n      <td>NaN</td>\n      <td>11.3</td>\n      <td>38</td>\n      <td>6000</td>\n      <td>NaN</td>\n      <td>ckd</td>\n    </tr>\n    <tr>\n      <th>2</th>\n      <td>62.0</td>\n      <td>80.0</td>\n      <td>1.010</td>\n      <td>2.0</td>\n      <td>3.0</td>\n      <td>423.0</td>\n      <td>53.0</td>\n      <td>NaN</td>\n      <td>NaN</td>\n      <td>9.6</td>\n      <td>31</td>\n      <td>7500</td>\n      <td>NaN</td>\n      <td>ckd</td>\n    </tr>\n    <tr>\n      <th>3</th>\n      <td>48.0</td>\n      <td>70.0</td>\n      <td>1.005</td>\n      <td>4.0</td>\n      <td>0.0</td>\n      <td>117.0</td>\n      <td>56.0</td>\n      <td>111.0</td>\n      <td>2.5</td>\n      <td>11.2</td>\n      <td>32</td>\n      <td>6700</td>\n      <td>3.9</td>\n      <td>ckd</td>\n    </tr>\n    <tr>\n      <th>4</th>\n      <td>51.0</td>\n      <td>80.0</td>\n      <td>1.010</td>\n      <td>2.0</td>\n      <td>0.0</td>\n      <td>106.0</td>\n      <td>26.0</td>\n      <td>NaN</td>\n      <td>NaN</td>\n      <td>11.6</td>\n      <td>35</td>\n      <td>7300</td>\n      <td>4.6</td>\n      <td>ckd</td>\n    </tr>\n    <tr>\n      <th>...</th>\n      <td>...</td>\n      <td>...</td>\n      <td>...</td>\n      <td>...</td>\n      <td>...</td>\n      <td>...</td>\n      <td>...</td>\n      <td>...</td>\n      <td>...</td>\n      <td>...</td>\n      <td>...</td>\n      <td>...</td>\n      <td>...</td>\n      <td>...</td>\n    </tr>\n    <tr>\n      <th>395</th>\n      <td>55.0</td>\n      <td>80.0</td>\n      <td>1.020</td>\n      <td>0.0</td>\n      <td>0.0</td>\n      <td>140.0</td>\n      <td>49.0</td>\n      <td>150.0</td>\n      <td>4.9</td>\n      <td>15.7</td>\n      <td>47</td>\n      <td>6700</td>\n      <td>4.9</td>\n      <td>notckd</td>\n    </tr>\n    <tr>\n      <th>396</th>\n      <td>42.0</td>\n      <td>70.0</td>\n      <td>1.025</td>\n      <td>0.0</td>\n      <td>0.0</td>\n      <td>75.0</td>\n      <td>31.0</td>\n      <td>141.0</td>\n      <td>3.5</td>\n      <td>16.5</td>\n      <td>54</td>\n      <td>7800</td>\n      <td>6.2</td>\n      <td>notckd</td>\n    </tr>\n    <tr>\n      <th>397</th>\n      <td>12.0</td>\n      <td>80.0</td>\n      <td>1.020</td>\n      <td>0.0</td>\n      <td>0.0</td>\n      <td>100.0</td>\n      <td>26.0</td>\n      <td>137.0</td>\n      <td>4.4</td>\n      <td>15.8</td>\n      <td>49</td>\n      <td>6600</td>\n      <td>5.4</td>\n      <td>notckd</td>\n    </tr>\n    <tr>\n      <th>398</th>\n      <td>17.0</td>\n      <td>60.0</td>\n      <td>1.025</td>\n      <td>0.0</td>\n      <td>0.0</td>\n      <td>114.0</td>\n      <td>50.0</td>\n      <td>135.0</td>\n      <td>4.9</td>\n      <td>14.2</td>\n      <td>51</td>\n      <td>7200</td>\n      <td>5.9</td>\n      <td>notckd</td>\n    </tr>\n    <tr>\n      <th>399</th>\n      <td>58.0</td>\n      <td>80.0</td>\n      <td>1.025</td>\n      <td>0.0</td>\n      <td>0.0</td>\n      <td>131.0</td>\n      <td>18.0</td>\n      <td>141.0</td>\n      <td>3.5</td>\n      <td>15.8</td>\n      <td>53</td>\n      <td>6800</td>\n      <td>6.1</td>\n      <td>notckd</td>\n    </tr>\n  </tbody>\n</table>\n<p>400 rows × 14 columns</p>\n</div>"
     },
     "execution_count": 8,
     "metadata": {},
     "output_type": "execute_result"
    }
   ],
   "source": [
    "df.drop(columns=['rbc', 'pc', 'pcc', 'ba', 'htn', 'dm', 'cad', 'appet', 'pe', 'ane', 'su'], inplace=True)\n",
    "df"
   ],
   "metadata": {
    "collapsed": false,
    "pycharm": {
     "name": "#%%\n"
    },
    "ExecuteTime": {
     "end_time": "2024-08-27T13:25:31.901912Z",
     "start_time": "2024-08-27T13:25:31.892729Z"
    }
   }
  },
  {
   "cell_type": "markdown",
   "source": [
    "## Datan karsiminen\n",
    "Ylemmässä koodisolussa poistimme turhat sarakkeet, joita ei pyydetty tehtävänannossa. Seuraavaksi tulemme etsimään ja poistamaan kaikki uniikit arvot."
   ],
   "metadata": {
    "collapsed": false
   }
  },
  {
   "cell_type": "code",
   "outputs": [
    {
     "data": {
      "text/plain": "               age  blood_pressure  specific_gravity     albumin       sugar  \\\ncount   391.000000      388.000000        353.000000  354.000000  351.000000   \nunique         NaN             NaN               NaN         NaN         NaN   \ntop            NaN             NaN               NaN         NaN         NaN   \nfreq           NaN             NaN               NaN         NaN         NaN   \nmean     51.483376       76.469072          1.017408    1.016949    0.450142   \nstd      17.169714       13.683637          0.005717    1.352679    1.099191   \nmin       2.000000       50.000000          1.005000    0.000000    0.000000   \n25%      42.000000       70.000000          1.010000    0.000000    0.000000   \n50%      55.000000       80.000000          1.020000    0.000000    0.000000   \n75%      64.500000       80.000000          1.020000    2.000000    0.000000   \nmax      90.000000      180.000000          1.025000    5.000000    5.000000   \n\n        blood_glucose_random  blood_urea      sodium   potassium  hemoglobin  \\\ncount             356.000000  381.000000  313.000000  312.000000  348.000000   \nunique                   NaN         NaN         NaN         NaN         NaN   \ntop                      NaN         NaN         NaN         NaN         NaN   \nfreq                     NaN         NaN         NaN         NaN         NaN   \nmean              148.036517   57.425722  137.528754    4.627244   12.526437   \nstd                79.281714   50.503006   10.408752    3.193904    2.912587   \nmin                22.000000    1.500000    4.500000    2.500000    3.100000   \n25%                99.000000   27.000000  135.000000    3.800000   10.300000   \n50%               121.000000   42.000000  138.000000    4.400000   12.650000   \n75%               163.000000   66.000000  142.000000    4.900000   15.000000   \nmax               490.000000  391.000000  163.000000   47.000000   17.800000   \n\n       packed_cell_volume white_blood_cell_count red_blood_cell_count class  \ncount                 330                    295                  270   400  \nunique                 44                     92                   49     3  \ntop                    41                   9800                  5.2   ckd  \nfreq                   21                     11                   18   248  \nmean                  NaN                    NaN                  NaN   NaN  \nstd                   NaN                    NaN                  NaN   NaN  \nmin                   NaN                    NaN                  NaN   NaN  \n25%                   NaN                    NaN                  NaN   NaN  \n50%                   NaN                    NaN                  NaN   NaN  \n75%                   NaN                    NaN                  NaN   NaN  \nmax                   NaN                    NaN                  NaN   NaN  ",
      "text/html": "<div>\n<style scoped>\n    .dataframe tbody tr th:only-of-type {\n        vertical-align: middle;\n    }\n\n    .dataframe tbody tr th {\n        vertical-align: top;\n    }\n\n    .dataframe thead th {\n        text-align: right;\n    }\n</style>\n<table border=\"1\" class=\"dataframe\">\n  <thead>\n    <tr style=\"text-align: right;\">\n      <th></th>\n      <th>age</th>\n      <th>blood_pressure</th>\n      <th>specific_gravity</th>\n      <th>albumin</th>\n      <th>sugar</th>\n      <th>blood_glucose_random</th>\n      <th>blood_urea</th>\n      <th>sodium</th>\n      <th>potassium</th>\n      <th>hemoglobin</th>\n      <th>packed_cell_volume</th>\n      <th>white_blood_cell_count</th>\n      <th>red_blood_cell_count</th>\n      <th>class</th>\n    </tr>\n  </thead>\n  <tbody>\n    <tr>\n      <th>count</th>\n      <td>391.000000</td>\n      <td>388.000000</td>\n      <td>353.000000</td>\n      <td>354.000000</td>\n      <td>351.000000</td>\n      <td>356.000000</td>\n      <td>381.000000</td>\n      <td>313.000000</td>\n      <td>312.000000</td>\n      <td>348.000000</td>\n      <td>330</td>\n      <td>295</td>\n      <td>270</td>\n      <td>400</td>\n    </tr>\n    <tr>\n      <th>unique</th>\n      <td>NaN</td>\n      <td>NaN</td>\n      <td>NaN</td>\n      <td>NaN</td>\n      <td>NaN</td>\n      <td>NaN</td>\n      <td>NaN</td>\n      <td>NaN</td>\n      <td>NaN</td>\n      <td>NaN</td>\n      <td>44</td>\n      <td>92</td>\n      <td>49</td>\n      <td>3</td>\n    </tr>\n    <tr>\n      <th>top</th>\n      <td>NaN</td>\n      <td>NaN</td>\n      <td>NaN</td>\n      <td>NaN</td>\n      <td>NaN</td>\n      <td>NaN</td>\n      <td>NaN</td>\n      <td>NaN</td>\n      <td>NaN</td>\n      <td>NaN</td>\n      <td>41</td>\n      <td>9800</td>\n      <td>5.2</td>\n      <td>ckd</td>\n    </tr>\n    <tr>\n      <th>freq</th>\n      <td>NaN</td>\n      <td>NaN</td>\n      <td>NaN</td>\n      <td>NaN</td>\n      <td>NaN</td>\n      <td>NaN</td>\n      <td>NaN</td>\n      <td>NaN</td>\n      <td>NaN</td>\n      <td>NaN</td>\n      <td>21</td>\n      <td>11</td>\n      <td>18</td>\n      <td>248</td>\n    </tr>\n    <tr>\n      <th>mean</th>\n      <td>51.483376</td>\n      <td>76.469072</td>\n      <td>1.017408</td>\n      <td>1.016949</td>\n      <td>0.450142</td>\n      <td>148.036517</td>\n      <td>57.425722</td>\n      <td>137.528754</td>\n      <td>4.627244</td>\n      <td>12.526437</td>\n      <td>NaN</td>\n      <td>NaN</td>\n      <td>NaN</td>\n      <td>NaN</td>\n    </tr>\n    <tr>\n      <th>std</th>\n      <td>17.169714</td>\n      <td>13.683637</td>\n      <td>0.005717</td>\n      <td>1.352679</td>\n      <td>1.099191</td>\n      <td>79.281714</td>\n      <td>50.503006</td>\n      <td>10.408752</td>\n      <td>3.193904</td>\n      <td>2.912587</td>\n      <td>NaN</td>\n      <td>NaN</td>\n      <td>NaN</td>\n      <td>NaN</td>\n    </tr>\n    <tr>\n      <th>min</th>\n      <td>2.000000</td>\n      <td>50.000000</td>\n      <td>1.005000</td>\n      <td>0.000000</td>\n      <td>0.000000</td>\n      <td>22.000000</td>\n      <td>1.500000</td>\n      <td>4.500000</td>\n      <td>2.500000</td>\n      <td>3.100000</td>\n      <td>NaN</td>\n      <td>NaN</td>\n      <td>NaN</td>\n      <td>NaN</td>\n    </tr>\n    <tr>\n      <th>25%</th>\n      <td>42.000000</td>\n      <td>70.000000</td>\n      <td>1.010000</td>\n      <td>0.000000</td>\n      <td>0.000000</td>\n      <td>99.000000</td>\n      <td>27.000000</td>\n      <td>135.000000</td>\n      <td>3.800000</td>\n      <td>10.300000</td>\n      <td>NaN</td>\n      <td>NaN</td>\n      <td>NaN</td>\n      <td>NaN</td>\n    </tr>\n    <tr>\n      <th>50%</th>\n      <td>55.000000</td>\n      <td>80.000000</td>\n      <td>1.020000</td>\n      <td>0.000000</td>\n      <td>0.000000</td>\n      <td>121.000000</td>\n      <td>42.000000</td>\n      <td>138.000000</td>\n      <td>4.400000</td>\n      <td>12.650000</td>\n      <td>NaN</td>\n      <td>NaN</td>\n      <td>NaN</td>\n      <td>NaN</td>\n    </tr>\n    <tr>\n      <th>75%</th>\n      <td>64.500000</td>\n      <td>80.000000</td>\n      <td>1.020000</td>\n      <td>2.000000</td>\n      <td>0.000000</td>\n      <td>163.000000</td>\n      <td>66.000000</td>\n      <td>142.000000</td>\n      <td>4.900000</td>\n      <td>15.000000</td>\n      <td>NaN</td>\n      <td>NaN</td>\n      <td>NaN</td>\n      <td>NaN</td>\n    </tr>\n    <tr>\n      <th>max</th>\n      <td>90.000000</td>\n      <td>180.000000</td>\n      <td>1.025000</td>\n      <td>5.000000</td>\n      <td>5.000000</td>\n      <td>490.000000</td>\n      <td>391.000000</td>\n      <td>163.000000</td>\n      <td>47.000000</td>\n      <td>17.800000</td>\n      <td>NaN</td>\n      <td>NaN</td>\n      <td>NaN</td>\n      <td>NaN</td>\n    </tr>\n  </tbody>\n</table>\n</div>"
     },
     "execution_count": 11,
     "metadata": {},
     "output_type": "execute_result"
    }
   ],
   "source": [
    "df.describe(include='all')"
   ],
   "metadata": {
    "collapsed": false,
    "ExecuteTime": {
     "end_time": "2024-08-27T13:28:04.911727Z",
     "start_time": "2024-08-27T13:28:04.894482Z"
    }
   },
   "execution_count": 11
  },
  {
   "cell_type": "code",
   "outputs": [
    {
     "data": {
      "text/plain": "array(['44', '38', '31', '32', '35', '39', '36', '33', '29', '28', nan,\n       '16', '24', '37', '30', '34', '40', '45', '27', '48', '52', '14',\n       '22', '18', '42', '17', '46', '23', '19', '25', '41', '26', '15',\n       '21', '43', '20', '47', '9', '49', '50', '53', '51', '54'],\n      dtype=object)"
     },
     "execution_count": 19,
     "metadata": {},
     "output_type": "execute_result"
    }
   ],
   "source": [
    "df.packed_cell_volume.unique()"
   ],
   "metadata": {
    "collapsed": false,
    "ExecuteTime": {
     "end_time": "2024-08-27T13:41:33.322350Z",
     "start_time": "2024-08-27T13:41:33.319330Z"
    }
   },
   "execution_count": 19
  },
  {
   "cell_type": "code",
   "outputs": [],
   "source": [
    "df.packed_cell_volume = df.packed_cell_volume.str.extract('(\\\\d+)', expand=False)"
   ],
   "metadata": {
    "collapsed": false,
    "ExecuteTime": {
     "end_time": "2024-08-27T13:41:25.935520Z",
     "start_time": "2024-08-27T13:41:25.932556Z"
    }
   },
   "execution_count": 18
  },
  {
   "cell_type": "code",
   "outputs": [],
   "source": [],
   "metadata": {
    "collapsed": false
   }
  },
  {
   "cell_type": "code",
   "outputs": [
    {
     "ename": "IntCastingNaNError",
     "evalue": "Cannot convert non-finite values (NA or inf) to integer",
     "output_type": "error",
     "traceback": [
      "\u001B[1;31m---------------------------------------------------------------------------\u001B[0m",
      "\u001B[1;31mIntCastingNaNError\u001B[0m                        Traceback (most recent call last)",
      "Cell \u001B[1;32mIn[14], line 1\u001B[0m\n\u001B[1;32m----> 1\u001B[0m df\u001B[38;5;241m.\u001B[39mage \u001B[38;5;241m=\u001B[39m \u001B[43mdf\u001B[49m\u001B[38;5;241;43m.\u001B[39;49m\u001B[43mage\u001B[49m\u001B[38;5;241;43m.\u001B[39;49m\u001B[43mastype\u001B[49m\u001B[43m(\u001B[49m\u001B[38;5;28;43mint\u001B[39;49m\u001B[43m)\u001B[49m\n\u001B[0;32m      2\u001B[0m df\u001B[38;5;241m.\u001B[39mblood_pressure \u001B[38;5;241m=\u001B[39m df\u001B[38;5;241m.\u001B[39mblood_pressure\u001B[38;5;241m.\u001B[39mastype(\u001B[38;5;28mint\u001B[39m)\n\u001B[0;32m      3\u001B[0m df\u001B[38;5;241m.\u001B[39mspecific_gravity \u001B[38;5;241m=\u001B[39m df\u001B[38;5;241m.\u001B[39mspecific_gravity\u001B[38;5;241m.\u001B[39mastype(\u001B[38;5;28mfloat\u001B[39m)\n",
      "File \u001B[1;32m~\\AppData\\Local\\Programs\\Python\\Python312\\Lib\\site-packages\\pandas\\core\\generic.py:6643\u001B[0m, in \u001B[0;36mNDFrame.astype\u001B[1;34m(self, dtype, copy, errors)\u001B[0m\n\u001B[0;32m   6637\u001B[0m     results \u001B[38;5;241m=\u001B[39m [\n\u001B[0;32m   6638\u001B[0m         ser\u001B[38;5;241m.\u001B[39mastype(dtype, copy\u001B[38;5;241m=\u001B[39mcopy, errors\u001B[38;5;241m=\u001B[39merrors) \u001B[38;5;28;01mfor\u001B[39;00m _, ser \u001B[38;5;129;01min\u001B[39;00m \u001B[38;5;28mself\u001B[39m\u001B[38;5;241m.\u001B[39mitems()\n\u001B[0;32m   6639\u001B[0m     ]\n\u001B[0;32m   6641\u001B[0m \u001B[38;5;28;01melse\u001B[39;00m:\n\u001B[0;32m   6642\u001B[0m     \u001B[38;5;66;03m# else, only a single dtype is given\u001B[39;00m\n\u001B[1;32m-> 6643\u001B[0m     new_data \u001B[38;5;241m=\u001B[39m \u001B[38;5;28;43mself\u001B[39;49m\u001B[38;5;241;43m.\u001B[39;49m\u001B[43m_mgr\u001B[49m\u001B[38;5;241;43m.\u001B[39;49m\u001B[43mastype\u001B[49m\u001B[43m(\u001B[49m\u001B[43mdtype\u001B[49m\u001B[38;5;241;43m=\u001B[39;49m\u001B[43mdtype\u001B[49m\u001B[43m,\u001B[49m\u001B[43m \u001B[49m\u001B[43mcopy\u001B[49m\u001B[38;5;241;43m=\u001B[39;49m\u001B[43mcopy\u001B[49m\u001B[43m,\u001B[49m\u001B[43m \u001B[49m\u001B[43merrors\u001B[49m\u001B[38;5;241;43m=\u001B[39;49m\u001B[43merrors\u001B[49m\u001B[43m)\u001B[49m\n\u001B[0;32m   6644\u001B[0m     res \u001B[38;5;241m=\u001B[39m \u001B[38;5;28mself\u001B[39m\u001B[38;5;241m.\u001B[39m_constructor_from_mgr(new_data, axes\u001B[38;5;241m=\u001B[39mnew_data\u001B[38;5;241m.\u001B[39maxes)\n\u001B[0;32m   6645\u001B[0m     \u001B[38;5;28;01mreturn\u001B[39;00m res\u001B[38;5;241m.\u001B[39m__finalize__(\u001B[38;5;28mself\u001B[39m, method\u001B[38;5;241m=\u001B[39m\u001B[38;5;124m\"\u001B[39m\u001B[38;5;124mastype\u001B[39m\u001B[38;5;124m\"\u001B[39m)\n",
      "File \u001B[1;32m~\\AppData\\Local\\Programs\\Python\\Python312\\Lib\\site-packages\\pandas\\core\\internals\\managers.py:430\u001B[0m, in \u001B[0;36mBaseBlockManager.astype\u001B[1;34m(self, dtype, copy, errors)\u001B[0m\n\u001B[0;32m    427\u001B[0m \u001B[38;5;28;01melif\u001B[39;00m using_copy_on_write():\n\u001B[0;32m    428\u001B[0m     copy \u001B[38;5;241m=\u001B[39m \u001B[38;5;28;01mFalse\u001B[39;00m\n\u001B[1;32m--> 430\u001B[0m \u001B[38;5;28;01mreturn\u001B[39;00m \u001B[38;5;28;43mself\u001B[39;49m\u001B[38;5;241;43m.\u001B[39;49m\u001B[43mapply\u001B[49m\u001B[43m(\u001B[49m\n\u001B[0;32m    431\u001B[0m \u001B[43m    \u001B[49m\u001B[38;5;124;43m\"\u001B[39;49m\u001B[38;5;124;43mastype\u001B[39;49m\u001B[38;5;124;43m\"\u001B[39;49m\u001B[43m,\u001B[49m\n\u001B[0;32m    432\u001B[0m \u001B[43m    \u001B[49m\u001B[43mdtype\u001B[49m\u001B[38;5;241;43m=\u001B[39;49m\u001B[43mdtype\u001B[49m\u001B[43m,\u001B[49m\n\u001B[0;32m    433\u001B[0m \u001B[43m    \u001B[49m\u001B[43mcopy\u001B[49m\u001B[38;5;241;43m=\u001B[39;49m\u001B[43mcopy\u001B[49m\u001B[43m,\u001B[49m\n\u001B[0;32m    434\u001B[0m \u001B[43m    \u001B[49m\u001B[43merrors\u001B[49m\u001B[38;5;241;43m=\u001B[39;49m\u001B[43merrors\u001B[49m\u001B[43m,\u001B[49m\n\u001B[0;32m    435\u001B[0m \u001B[43m    \u001B[49m\u001B[43musing_cow\u001B[49m\u001B[38;5;241;43m=\u001B[39;49m\u001B[43musing_copy_on_write\u001B[49m\u001B[43m(\u001B[49m\u001B[43m)\u001B[49m\u001B[43m,\u001B[49m\n\u001B[0;32m    436\u001B[0m \u001B[43m\u001B[49m\u001B[43m)\u001B[49m\n",
      "File \u001B[1;32m~\\AppData\\Local\\Programs\\Python\\Python312\\Lib\\site-packages\\pandas\\core\\internals\\managers.py:363\u001B[0m, in \u001B[0;36mBaseBlockManager.apply\u001B[1;34m(self, f, align_keys, **kwargs)\u001B[0m\n\u001B[0;32m    361\u001B[0m         applied \u001B[38;5;241m=\u001B[39m b\u001B[38;5;241m.\u001B[39mapply(f, \u001B[38;5;241m*\u001B[39m\u001B[38;5;241m*\u001B[39mkwargs)\n\u001B[0;32m    362\u001B[0m     \u001B[38;5;28;01melse\u001B[39;00m:\n\u001B[1;32m--> 363\u001B[0m         applied \u001B[38;5;241m=\u001B[39m \u001B[38;5;28;43mgetattr\u001B[39;49m\u001B[43m(\u001B[49m\u001B[43mb\u001B[49m\u001B[43m,\u001B[49m\u001B[43m \u001B[49m\u001B[43mf\u001B[49m\u001B[43m)\u001B[49m\u001B[43m(\u001B[49m\u001B[38;5;241;43m*\u001B[39;49m\u001B[38;5;241;43m*\u001B[39;49m\u001B[43mkwargs\u001B[49m\u001B[43m)\u001B[49m\n\u001B[0;32m    364\u001B[0m     result_blocks \u001B[38;5;241m=\u001B[39m extend_blocks(applied, result_blocks)\n\u001B[0;32m    366\u001B[0m out \u001B[38;5;241m=\u001B[39m \u001B[38;5;28mtype\u001B[39m(\u001B[38;5;28mself\u001B[39m)\u001B[38;5;241m.\u001B[39mfrom_blocks(result_blocks, \u001B[38;5;28mself\u001B[39m\u001B[38;5;241m.\u001B[39maxes)\n",
      "File \u001B[1;32m~\\AppData\\Local\\Programs\\Python\\Python312\\Lib\\site-packages\\pandas\\core\\internals\\blocks.py:758\u001B[0m, in \u001B[0;36mBlock.astype\u001B[1;34m(self, dtype, copy, errors, using_cow, squeeze)\u001B[0m\n\u001B[0;32m    755\u001B[0m         \u001B[38;5;28;01mraise\u001B[39;00m \u001B[38;5;167;01mValueError\u001B[39;00m(\u001B[38;5;124m\"\u001B[39m\u001B[38;5;124mCan not squeeze with more than one column.\u001B[39m\u001B[38;5;124m\"\u001B[39m)\n\u001B[0;32m    756\u001B[0m     values \u001B[38;5;241m=\u001B[39m values[\u001B[38;5;241m0\u001B[39m, :]  \u001B[38;5;66;03m# type: ignore[call-overload]\u001B[39;00m\n\u001B[1;32m--> 758\u001B[0m new_values \u001B[38;5;241m=\u001B[39m \u001B[43mastype_array_safe\u001B[49m\u001B[43m(\u001B[49m\u001B[43mvalues\u001B[49m\u001B[43m,\u001B[49m\u001B[43m \u001B[49m\u001B[43mdtype\u001B[49m\u001B[43m,\u001B[49m\u001B[43m \u001B[49m\u001B[43mcopy\u001B[49m\u001B[38;5;241;43m=\u001B[39;49m\u001B[43mcopy\u001B[49m\u001B[43m,\u001B[49m\u001B[43m \u001B[49m\u001B[43merrors\u001B[49m\u001B[38;5;241;43m=\u001B[39;49m\u001B[43merrors\u001B[49m\u001B[43m)\u001B[49m\n\u001B[0;32m    760\u001B[0m new_values \u001B[38;5;241m=\u001B[39m maybe_coerce_values(new_values)\n\u001B[0;32m    762\u001B[0m refs \u001B[38;5;241m=\u001B[39m \u001B[38;5;28;01mNone\u001B[39;00m\n",
      "File \u001B[1;32m~\\AppData\\Local\\Programs\\Python\\Python312\\Lib\\site-packages\\pandas\\core\\dtypes\\astype.py:237\u001B[0m, in \u001B[0;36mastype_array_safe\u001B[1;34m(values, dtype, copy, errors)\u001B[0m\n\u001B[0;32m    234\u001B[0m     dtype \u001B[38;5;241m=\u001B[39m dtype\u001B[38;5;241m.\u001B[39mnumpy_dtype\n\u001B[0;32m    236\u001B[0m \u001B[38;5;28;01mtry\u001B[39;00m:\n\u001B[1;32m--> 237\u001B[0m     new_values \u001B[38;5;241m=\u001B[39m \u001B[43mastype_array\u001B[49m\u001B[43m(\u001B[49m\u001B[43mvalues\u001B[49m\u001B[43m,\u001B[49m\u001B[43m \u001B[49m\u001B[43mdtype\u001B[49m\u001B[43m,\u001B[49m\u001B[43m \u001B[49m\u001B[43mcopy\u001B[49m\u001B[38;5;241;43m=\u001B[39;49m\u001B[43mcopy\u001B[49m\u001B[43m)\u001B[49m\n\u001B[0;32m    238\u001B[0m \u001B[38;5;28;01mexcept\u001B[39;00m (\u001B[38;5;167;01mValueError\u001B[39;00m, \u001B[38;5;167;01mTypeError\u001B[39;00m):\n\u001B[0;32m    239\u001B[0m     \u001B[38;5;66;03m# e.g. _astype_nansafe can fail on object-dtype of strings\u001B[39;00m\n\u001B[0;32m    240\u001B[0m     \u001B[38;5;66;03m#  trying to convert to float\u001B[39;00m\n\u001B[0;32m    241\u001B[0m     \u001B[38;5;28;01mif\u001B[39;00m errors \u001B[38;5;241m==\u001B[39m \u001B[38;5;124m\"\u001B[39m\u001B[38;5;124mignore\u001B[39m\u001B[38;5;124m\"\u001B[39m:\n",
      "File \u001B[1;32m~\\AppData\\Local\\Programs\\Python\\Python312\\Lib\\site-packages\\pandas\\core\\dtypes\\astype.py:182\u001B[0m, in \u001B[0;36mastype_array\u001B[1;34m(values, dtype, copy)\u001B[0m\n\u001B[0;32m    179\u001B[0m     values \u001B[38;5;241m=\u001B[39m values\u001B[38;5;241m.\u001B[39mastype(dtype, copy\u001B[38;5;241m=\u001B[39mcopy)\n\u001B[0;32m    181\u001B[0m \u001B[38;5;28;01melse\u001B[39;00m:\n\u001B[1;32m--> 182\u001B[0m     values \u001B[38;5;241m=\u001B[39m \u001B[43m_astype_nansafe\u001B[49m\u001B[43m(\u001B[49m\u001B[43mvalues\u001B[49m\u001B[43m,\u001B[49m\u001B[43m \u001B[49m\u001B[43mdtype\u001B[49m\u001B[43m,\u001B[49m\u001B[43m \u001B[49m\u001B[43mcopy\u001B[49m\u001B[38;5;241;43m=\u001B[39;49m\u001B[43mcopy\u001B[49m\u001B[43m)\u001B[49m\n\u001B[0;32m    184\u001B[0m \u001B[38;5;66;03m# in pandas we don't store numpy str dtypes, so convert to object\u001B[39;00m\n\u001B[0;32m    185\u001B[0m \u001B[38;5;28;01mif\u001B[39;00m \u001B[38;5;28misinstance\u001B[39m(dtype, np\u001B[38;5;241m.\u001B[39mdtype) \u001B[38;5;129;01mand\u001B[39;00m \u001B[38;5;28missubclass\u001B[39m(values\u001B[38;5;241m.\u001B[39mdtype\u001B[38;5;241m.\u001B[39mtype, \u001B[38;5;28mstr\u001B[39m):\n",
      "File \u001B[1;32m~\\AppData\\Local\\Programs\\Python\\Python312\\Lib\\site-packages\\pandas\\core\\dtypes\\astype.py:101\u001B[0m, in \u001B[0;36m_astype_nansafe\u001B[1;34m(arr, dtype, copy, skipna)\u001B[0m\n\u001B[0;32m     96\u001B[0m     \u001B[38;5;28;01mreturn\u001B[39;00m lib\u001B[38;5;241m.\u001B[39mensure_string_array(\n\u001B[0;32m     97\u001B[0m         arr, skipna\u001B[38;5;241m=\u001B[39mskipna, convert_na_value\u001B[38;5;241m=\u001B[39m\u001B[38;5;28;01mFalse\u001B[39;00m\n\u001B[0;32m     98\u001B[0m     )\u001B[38;5;241m.\u001B[39mreshape(shape)\n\u001B[0;32m    100\u001B[0m \u001B[38;5;28;01melif\u001B[39;00m np\u001B[38;5;241m.\u001B[39missubdtype(arr\u001B[38;5;241m.\u001B[39mdtype, np\u001B[38;5;241m.\u001B[39mfloating) \u001B[38;5;129;01mand\u001B[39;00m dtype\u001B[38;5;241m.\u001B[39mkind \u001B[38;5;129;01min\u001B[39;00m \u001B[38;5;124m\"\u001B[39m\u001B[38;5;124miu\u001B[39m\u001B[38;5;124m\"\u001B[39m:\n\u001B[1;32m--> 101\u001B[0m     \u001B[38;5;28;01mreturn\u001B[39;00m \u001B[43m_astype_float_to_int_nansafe\u001B[49m\u001B[43m(\u001B[49m\u001B[43marr\u001B[49m\u001B[43m,\u001B[49m\u001B[43m \u001B[49m\u001B[43mdtype\u001B[49m\u001B[43m,\u001B[49m\u001B[43m \u001B[49m\u001B[43mcopy\u001B[49m\u001B[43m)\u001B[49m\n\u001B[0;32m    103\u001B[0m \u001B[38;5;28;01melif\u001B[39;00m arr\u001B[38;5;241m.\u001B[39mdtype \u001B[38;5;241m==\u001B[39m \u001B[38;5;28mobject\u001B[39m:\n\u001B[0;32m    104\u001B[0m     \u001B[38;5;66;03m# if we have a datetime/timedelta array of objects\u001B[39;00m\n\u001B[0;32m    105\u001B[0m     \u001B[38;5;66;03m# then coerce to datetime64[ns] and use DatetimeArray.astype\u001B[39;00m\n\u001B[0;32m    107\u001B[0m     \u001B[38;5;28;01mif\u001B[39;00m lib\u001B[38;5;241m.\u001B[39mis_np_dtype(dtype, \u001B[38;5;124m\"\u001B[39m\u001B[38;5;124mM\u001B[39m\u001B[38;5;124m\"\u001B[39m):\n",
      "File \u001B[1;32m~\\AppData\\Local\\Programs\\Python\\Python312\\Lib\\site-packages\\pandas\\core\\dtypes\\astype.py:145\u001B[0m, in \u001B[0;36m_astype_float_to_int_nansafe\u001B[1;34m(values, dtype, copy)\u001B[0m\n\u001B[0;32m    141\u001B[0m \u001B[38;5;250m\u001B[39m\u001B[38;5;124;03m\"\"\"\u001B[39;00m\n\u001B[0;32m    142\u001B[0m \u001B[38;5;124;03mastype with a check preventing converting NaN to an meaningless integer value.\u001B[39;00m\n\u001B[0;32m    143\u001B[0m \u001B[38;5;124;03m\"\"\"\u001B[39;00m\n\u001B[0;32m    144\u001B[0m \u001B[38;5;28;01mif\u001B[39;00m \u001B[38;5;129;01mnot\u001B[39;00m np\u001B[38;5;241m.\u001B[39misfinite(values)\u001B[38;5;241m.\u001B[39mall():\n\u001B[1;32m--> 145\u001B[0m     \u001B[38;5;28;01mraise\u001B[39;00m IntCastingNaNError(\n\u001B[0;32m    146\u001B[0m         \u001B[38;5;124m\"\u001B[39m\u001B[38;5;124mCannot convert non-finite values (NA or inf) to integer\u001B[39m\u001B[38;5;124m\"\u001B[39m\n\u001B[0;32m    147\u001B[0m     )\n\u001B[0;32m    148\u001B[0m \u001B[38;5;28;01mif\u001B[39;00m dtype\u001B[38;5;241m.\u001B[39mkind \u001B[38;5;241m==\u001B[39m \u001B[38;5;124m\"\u001B[39m\u001B[38;5;124mu\u001B[39m\u001B[38;5;124m\"\u001B[39m:\n\u001B[0;32m    149\u001B[0m     \u001B[38;5;66;03m# GH#45151\u001B[39;00m\n\u001B[0;32m    150\u001B[0m     \u001B[38;5;28;01mif\u001B[39;00m \u001B[38;5;129;01mnot\u001B[39;00m (values \u001B[38;5;241m>\u001B[39m\u001B[38;5;241m=\u001B[39m \u001B[38;5;241m0\u001B[39m)\u001B[38;5;241m.\u001B[39mall():\n",
      "\u001B[1;31mIntCastingNaNError\u001B[0m: Cannot convert non-finite values (NA or inf) to integer"
     ]
    }
   ],
   "source": [
    "# df.age = df.age.astype(int)\n",
    "# df.blood_pressure = df.blood_pressure.astype(int)\n",
    "# df.specific_gravity = df.specific_gravity.astype(float)\n",
    "# df.albumin = df.albumin.astype(int)\n",
    "# df.sugar = df.sugar.astype(int)\n",
    "# df.blood_glucose_random = df.blood_glucose_random.astype(int)\n",
    "# df.blood_urea = df.blood_urea.astype(int)\n",
    "# df.sodium = df.sodium.astype(int)\n",
    "# df.potassium = df.potassium.astype(float)\n",
    "# df.hemoglobin = df.hemoglobin.astype(float)\n",
    "# df.packed_cell_volume = df.packed_cell_volume.astype(int)\n",
    "# df.white_blood_cell_count = df.white_blood_cell_count.astype(int)\n",
    "# df.red_blood_cell_count = df.red_blood_cell_count.astype(float)\n",
    "# \n",
    "# df['class'] = pd.Categorical(df['class'])\n",
    "# df['class'] = df['class'].astype('category')\n",
    "# df.dtypes"
   ],
   "metadata": {
    "collapsed": false,
    "ExecuteTime": {
     "end_time": "2024-08-27T13:38:24.670006Z",
     "start_time": "2024-08-27T13:38:24.626926Z"
    }
   },
   "execution_count": 14
  },
  {
   "cell_type": "code",
   "outputs": [],
   "source": [],
   "metadata": {
    "collapsed": false
   }
  }
 ],
 "metadata": {
  "kernelspec": {
   "display_name": "Python 3",
   "language": "python",
   "name": "python3"
  },
  "language_info": {
   "codemirror_mode": {
    "name": "ipython",
    "version": 2
   },
   "file_extension": ".py",
   "mimetype": "text/x-python",
   "name": "python",
   "nbconvert_exporter": "python",
   "pygments_lexer": "ipython2",
   "version": "2.7.6"
  }
 },
 "nbformat": 4,
 "nbformat_minor": 0
}
